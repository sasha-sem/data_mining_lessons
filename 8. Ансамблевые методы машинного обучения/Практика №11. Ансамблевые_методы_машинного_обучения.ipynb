{
  "cells": [
    {
      "cell_type": "markdown",
      "metadata": {
        "colab_type": "text",
        "id": "view-in-github"
      },
      "source": [
        "<a href=\"https://colab.research.google.com/github/Alexandre77777/data_mining/blob/main/8.%20%D0%90%D0%BD%D1%81%D0%B0%D0%BC%D0%B1%D0%BB%D0%B5%D0%B2%D1%8B%D0%B5%20%D0%BC%D0%B5%D1%82%D0%BE%D0%B4%D1%8B%20%D0%BC%D0%B0%D1%88%D0%B8%D0%BD%D0%BD%D0%BE%D0%B3%D0%BE%20%D0%BE%D0%B1%D1%83%D1%87%D0%B5%D0%BD%D0%B8%D1%8F/%D0%9F%D1%80%D0%B0%D0%BA%D1%82%D0%B8%D0%BA%D0%B0%20%E2%84%9611.%20%D0%90%D0%BD%D1%81%D0%B0%D0%BC%D0%B1%D0%BB%D0%B5%D0%B2%D1%8B%D0%B5_%D0%BC%D0%B5%D1%82%D0%BE%D0%B4%D1%8B_%D0%BC%D0%B0%D1%88%D0%B8%D0%BD%D0%BD%D0%BE%D0%B3%D0%BE_%D0%BE%D0%B1%D1%83%D1%87%D0%B5%D0%BD%D0%B8%D1%8F.ipynb\" target=\"_parent\"><img src=\"https://colab.research.google.com/assets/colab-badge.svg\" alt=\"Open In Colab\"/></a>"
      ]
    },
    {
      "cell_type": "code",
      "execution_count": 1,
      "metadata": {},
      "outputs": [
        {
          "name": "stdout",
          "output_type": "stream",
          "text": [
            "Defaulting to user installation because normal site-packages is not writeable\n",
            "Requirement already satisfied: catboost in c:\\users\\user\\appdata\\roaming\\python\\python39\\site-packages (1.2.2)\n",
            "Requirement already satisfied: six in c:\\users\\user\\appdata\\roaming\\python\\python39\\site-packages (from catboost) (1.12.0)\n",
            "Requirement already satisfied: graphviz in c:\\users\\user\\appdata\\roaming\\python\\python39\\site-packages (from catboost) (0.20.1)\n",
            "Requirement already satisfied: plotly in c:\\programdata\\anaconda3\\lib\\site-packages (from catboost) (5.9.0)\n",
            "Requirement already satisfied: numpy>=1.16.0 in c:\\users\\user\\appdata\\roaming\\python\\python39\\site-packages (from catboost) (1.23.5)\n",
            "Requirement already satisfied: pandas>=0.24 in c:\\programdata\\anaconda3\\lib\\site-packages (from catboost) (1.4.4)\n",
            "Requirement already satisfied: matplotlib in c:\\programdata\\anaconda3\\lib\\site-packages (from catboost) (3.5.2)\n",
            "Requirement already satisfied: scipy in c:\\programdata\\anaconda3\\lib\\site-packages (from catboost) (1.9.1)\n",
            "Requirement already satisfied: python-dateutil>=2.8.1 in c:\\programdata\\anaconda3\\lib\\site-packages (from pandas>=0.24->catboost) (2.8.2)\n",
            "Requirement already satisfied: pytz>=2020.1 in c:\\programdata\\anaconda3\\lib\\site-packages (from pandas>=0.24->catboost) (2022.1)\n",
            "Requirement already satisfied: fonttools>=4.22.0 in c:\\programdata\\anaconda3\\lib\\site-packages (from matplotlib->catboost) (4.25.0)\n",
            "Requirement already satisfied: pyparsing>=2.2.1 in c:\\programdata\\anaconda3\\lib\\site-packages (from matplotlib->catboost) (3.0.9)\n",
            "Requirement already satisfied: packaging>=20.0 in c:\\programdata\\anaconda3\\lib\\site-packages (from matplotlib->catboost) (21.3)\n",
            "Requirement already satisfied: cycler>=0.10 in c:\\programdata\\anaconda3\\lib\\site-packages (from matplotlib->catboost) (0.11.0)\n",
            "Requirement already satisfied: pillow>=6.2.0 in c:\\programdata\\anaconda3\\lib\\site-packages (from matplotlib->catboost) (9.2.0)\n",
            "Requirement already satisfied: kiwisolver>=1.0.1 in c:\\programdata\\anaconda3\\lib\\site-packages (from matplotlib->catboost) (1.4.2)\n",
            "Requirement already satisfied: tenacity>=6.2.0 in c:\\programdata\\anaconda3\\lib\\site-packages (from plotly->catboost) (8.0.1)\n",
            "Note: you may need to restart the kernel to use updated packages.\n"
          ]
        }
      ],
      "source": [
        "%pip install catboost"
      ]
    },
    {
      "cell_type": "code",
      "execution_count": 2,
      "metadata": {},
      "outputs": [
        {
          "name": "stdout",
          "output_type": "stream",
          "text": [
            "^C\n",
            "Note: you may need to restart the kernel to use updated packages.\n"
          ]
        },
        {
          "name": "stdout",
          "output_type": "stream",
          "text": [
            "Defaulting to user installation because normal site-packages is not writeable\n",
            "Collecting xgboost\n",
            "  Downloading xgboost-2.0.2-py3-none-win_amd64.whl (99.8 MB)\n",
            "     -------------------------------------- 99.8/99.8 MB 505.2 kB/s eta 0:00:00\n",
            "Requirement already satisfied: numpy in c:\\users\\user\\appdata\\roaming\\python\\python39\\site-packages (from xgboost) (1.23.5)\n",
            "Requirement already satisfied: scipy in c:\\programdata\\anaconda3\\lib\\site-packages (from xgboost) (1.9.1)\n",
            "Installing collected packages: xgboost\n",
            "Successfully installed xgboost-2.0.2\n"
          ]
        }
      ],
      "source": [
        "%pip install xgboost"
      ]
    },
    {
      "cell_type": "code",
      "execution_count": 3,
      "metadata": {},
      "outputs": [
        {
          "name": "stdout",
          "output_type": "stream",
          "text": [
            "Defaulting to user installation because normal site-packages is not writeable\n",
            "Collecting lightgbm\n",
            "  Downloading lightgbm-4.1.0-py3-none-win_amd64.whl (1.3 MB)\n",
            "     ---------------------------------------- 1.3/1.3 MB 2.5 MB/s eta 0:00:00\n",
            "Requirement already satisfied: scipy in c:\\programdata\\anaconda3\\lib\\site-packages (from lightgbm) (1.9.1)\n",
            "Requirement already satisfied: numpy in c:\\users\\user\\appdata\\roaming\\python\\python39\\site-packages (from lightgbm) (1.23.5)\n",
            "Installing collected packages: lightgbm\n",
            "Successfully installed lightgbm-4.1.0\n",
            "Note: you may need to restart the kernel to use updated packages.\n"
          ]
        }
      ],
      "source": [
        "%pip install lightgbm"
      ]
    },
    {
      "cell_type": "markdown",
      "metadata": {
        "id": "Tv_LkPLeAJ-P"
      },
      "source": [
        "# Обучить модели машинного обучения для решения задачи классификации, используя следующие boosting-алгоритмы: CatBoost, Light GBM, XGBoost, AdaBoost. Сравнить их точность и быстродействие.\n",
        "\n",
        "Датасет: https://www.kaggle.com/c/titanic/data"
      ]
    },
    {
      "cell_type": "code",
      "execution_count": 2,
      "metadata": {
        "id": "NIjyOzfRAGKi"
      },
      "outputs": [],
      "source": [
        "import pandas as pd\n",
        "import numpy as np\n",
        "from time import time\n",
        "import plotly.express as px\n",
        "import matplotlib.pyplot as plt"
      ]
    },
    {
      "cell_type": "code",
      "execution_count": 3,
      "metadata": {},
      "outputs": [],
      "source": [
        "df = pd.read_csv(r'../data/titanic/train.csv')"
      ]
    },
    {
      "cell_type": "code",
      "execution_count": 4,
      "metadata": {},
      "outputs": [
        {
          "data": {
            "text/plain": [
              "(891, 12)"
            ]
          },
          "execution_count": 4,
          "metadata": {},
          "output_type": "execute_result"
        }
      ],
      "source": [
        "df.shape"
      ]
    },
    {
      "cell_type": "code",
      "execution_count": 5,
      "metadata": {},
      "outputs": [
        {
          "data": {
            "text/html": [
              "<div>\n",
              "<style scoped>\n",
              "    .dataframe tbody tr th:only-of-type {\n",
              "        vertical-align: middle;\n",
              "    }\n",
              "\n",
              "    .dataframe tbody tr th {\n",
              "        vertical-align: top;\n",
              "    }\n",
              "\n",
              "    .dataframe thead th {\n",
              "        text-align: right;\n",
              "    }\n",
              "</style>\n",
              "<table border=\"1\" class=\"dataframe\">\n",
              "  <thead>\n",
              "    <tr style=\"text-align: right;\">\n",
              "      <th></th>\n",
              "      <th>PassengerId</th>\n",
              "      <th>Survived</th>\n",
              "      <th>Pclass</th>\n",
              "      <th>Name</th>\n",
              "      <th>Sex</th>\n",
              "      <th>Age</th>\n",
              "      <th>SibSp</th>\n",
              "      <th>Parch</th>\n",
              "      <th>Ticket</th>\n",
              "      <th>Fare</th>\n",
              "      <th>Cabin</th>\n",
              "      <th>Embarked</th>\n",
              "    </tr>\n",
              "  </thead>\n",
              "  <tbody>\n",
              "    <tr>\n",
              "      <th>0</th>\n",
              "      <td>1</td>\n",
              "      <td>0</td>\n",
              "      <td>3</td>\n",
              "      <td>Braund, Mr. Owen Harris</td>\n",
              "      <td>male</td>\n",
              "      <td>22.0</td>\n",
              "      <td>1</td>\n",
              "      <td>0</td>\n",
              "      <td>A/5 21171</td>\n",
              "      <td>7.2500</td>\n",
              "      <td>NaN</td>\n",
              "      <td>S</td>\n",
              "    </tr>\n",
              "    <tr>\n",
              "      <th>1</th>\n",
              "      <td>2</td>\n",
              "      <td>1</td>\n",
              "      <td>1</td>\n",
              "      <td>Cumings, Mrs. John Bradley (Florence Briggs Th...</td>\n",
              "      <td>female</td>\n",
              "      <td>38.0</td>\n",
              "      <td>1</td>\n",
              "      <td>0</td>\n",
              "      <td>PC 17599</td>\n",
              "      <td>71.2833</td>\n",
              "      <td>C85</td>\n",
              "      <td>C</td>\n",
              "    </tr>\n",
              "    <tr>\n",
              "      <th>2</th>\n",
              "      <td>3</td>\n",
              "      <td>1</td>\n",
              "      <td>3</td>\n",
              "      <td>Heikkinen, Miss. Laina</td>\n",
              "      <td>female</td>\n",
              "      <td>26.0</td>\n",
              "      <td>0</td>\n",
              "      <td>0</td>\n",
              "      <td>STON/O2. 3101282</td>\n",
              "      <td>7.9250</td>\n",
              "      <td>NaN</td>\n",
              "      <td>S</td>\n",
              "    </tr>\n",
              "    <tr>\n",
              "      <th>3</th>\n",
              "      <td>4</td>\n",
              "      <td>1</td>\n",
              "      <td>1</td>\n",
              "      <td>Futrelle, Mrs. Jacques Heath (Lily May Peel)</td>\n",
              "      <td>female</td>\n",
              "      <td>35.0</td>\n",
              "      <td>1</td>\n",
              "      <td>0</td>\n",
              "      <td>113803</td>\n",
              "      <td>53.1000</td>\n",
              "      <td>C123</td>\n",
              "      <td>S</td>\n",
              "    </tr>\n",
              "    <tr>\n",
              "      <th>4</th>\n",
              "      <td>5</td>\n",
              "      <td>0</td>\n",
              "      <td>3</td>\n",
              "      <td>Allen, Mr. William Henry</td>\n",
              "      <td>male</td>\n",
              "      <td>35.0</td>\n",
              "      <td>0</td>\n",
              "      <td>0</td>\n",
              "      <td>373450</td>\n",
              "      <td>8.0500</td>\n",
              "      <td>NaN</td>\n",
              "      <td>S</td>\n",
              "    </tr>\n",
              "  </tbody>\n",
              "</table>\n",
              "</div>"
            ],
            "text/plain": [
              "   PassengerId  Survived  Pclass  \\\n",
              "0            1         0       3   \n",
              "1            2         1       1   \n",
              "2            3         1       3   \n",
              "3            4         1       1   \n",
              "4            5         0       3   \n",
              "\n",
              "                                                Name     Sex   Age  SibSp  \\\n",
              "0                            Braund, Mr. Owen Harris    male  22.0      1   \n",
              "1  Cumings, Mrs. John Bradley (Florence Briggs Th...  female  38.0      1   \n",
              "2                             Heikkinen, Miss. Laina  female  26.0      0   \n",
              "3       Futrelle, Mrs. Jacques Heath (Lily May Peel)  female  35.0      1   \n",
              "4                           Allen, Mr. William Henry    male  35.0      0   \n",
              "\n",
              "   Parch            Ticket     Fare Cabin Embarked  \n",
              "0      0         A/5 21171   7.2500   NaN        S  \n",
              "1      0          PC 17599  71.2833   C85        C  \n",
              "2      0  STON/O2. 3101282   7.9250   NaN        S  \n",
              "3      0            113803  53.1000  C123        S  \n",
              "4      0            373450   8.0500   NaN        S  "
            ]
          },
          "execution_count": 5,
          "metadata": {},
          "output_type": "execute_result"
        }
      ],
      "source": [
        "df.head()"
      ]
    },
    {
      "cell_type": "code",
      "execution_count": 6,
      "metadata": {},
      "outputs": [
        {
          "name": "stdout",
          "output_type": "stream",
          "text": [
            "<class 'pandas.core.frame.DataFrame'>\n",
            "RangeIndex: 891 entries, 0 to 890\n",
            "Data columns (total 12 columns):\n",
            " #   Column       Non-Null Count  Dtype  \n",
            "---  ------       --------------  -----  \n",
            " 0   PassengerId  891 non-null    int64  \n",
            " 1   Survived     891 non-null    int64  \n",
            " 2   Pclass       891 non-null    int64  \n",
            " 3   Name         891 non-null    object \n",
            " 4   Sex          891 non-null    object \n",
            " 5   Age          714 non-null    float64\n",
            " 6   SibSp        891 non-null    int64  \n",
            " 7   Parch        891 non-null    int64  \n",
            " 8   Ticket       891 non-null    object \n",
            " 9   Fare         891 non-null    float64\n",
            " 10  Cabin        204 non-null    object \n",
            " 11  Embarked     889 non-null    object \n",
            "dtypes: float64(2), int64(5), object(5)\n",
            "memory usage: 83.7+ KB\n"
          ]
        }
      ],
      "source": [
        "df.info()"
      ]
    },
    {
      "cell_type": "code",
      "execution_count": 7,
      "metadata": {},
      "outputs": [
        {
          "data": {
            "text/plain": [
              "PassengerId      0\n",
              "Survived         0\n",
              "Pclass           0\n",
              "Name             0\n",
              "Sex              0\n",
              "Age            177\n",
              "SibSp            0\n",
              "Parch            0\n",
              "Ticket           0\n",
              "Fare             0\n",
              "Cabin          687\n",
              "Embarked         2\n",
              "dtype: int64"
            ]
          },
          "execution_count": 7,
          "metadata": {},
          "output_type": "execute_result"
        }
      ],
      "source": [
        "df.isnull().sum()"
      ]
    },
    {
      "cell_type": "code",
      "execution_count": 8,
      "metadata": {},
      "outputs": [],
      "source": [
        "df = df[df[\"Age\"].notna() & df[\"Embarked\"].notna()]"
      ]
    },
    {
      "cell_type": "code",
      "execution_count": 9,
      "metadata": {},
      "outputs": [
        {
          "name": "stdout",
          "output_type": "stream",
          "text": [
            "<class 'pandas.core.frame.DataFrame'>\n",
            "Int64Index: 712 entries, 0 to 890\n",
            "Data columns (total 12 columns):\n",
            " #   Column       Non-Null Count  Dtype  \n",
            "---  ------       --------------  -----  \n",
            " 0   PassengerId  712 non-null    int64  \n",
            " 1   Survived     712 non-null    int64  \n",
            " 2   Pclass       712 non-null    int64  \n",
            " 3   Name         712 non-null    object \n",
            " 4   Sex          712 non-null    object \n",
            " 5   Age          712 non-null    float64\n",
            " 6   SibSp        712 non-null    int64  \n",
            " 7   Parch        712 non-null    int64  \n",
            " 8   Ticket       712 non-null    object \n",
            " 9   Fare         712 non-null    float64\n",
            " 10  Cabin        183 non-null    object \n",
            " 11  Embarked     712 non-null    object \n",
            "dtypes: float64(2), int64(5), object(5)\n",
            "memory usage: 72.3+ KB\n"
          ]
        }
      ],
      "source": [
        "df.info()"
      ]
    },
    {
      "cell_type": "code",
      "execution_count": 24,
      "metadata": {},
      "outputs": [],
      "source": [
        "y = df['Survived']\n",
        "X = df.drop(['Survived'], axis=1)\n",
        "\n",
        "X = X[[\"Pclass\", \"Sex\", \"Age\", \"SibSp\", \"Parch\", \"Fare\", \"Embarked\"]]"
      ]
    },
    {
      "cell_type": "code",
      "execution_count": 25,
      "metadata": {},
      "outputs": [],
      "source": [
        "import category_encoders as ce\n",
        "\n",
        "\n",
        "encoder = ce.OrdinalEncoder(cols=['Sex', 'Embarked'])\n",
        "\n",
        "X = encoder.fit_transform(X)"
      ]
    },
    {
      "cell_type": "code",
      "execution_count": 26,
      "metadata": {},
      "outputs": [
        {
          "name": "stdout",
          "output_type": "stream",
          "text": [
            "<class 'pandas.core.frame.DataFrame'>\n",
            "Int64Index: 712 entries, 0 to 890\n",
            "Data columns (total 7 columns):\n",
            " #   Column    Non-Null Count  Dtype  \n",
            "---  ------    --------------  -----  \n",
            " 0   Pclass    712 non-null    int64  \n",
            " 1   Sex       712 non-null    int32  \n",
            " 2   Age       712 non-null    float64\n",
            " 3   SibSp     712 non-null    int64  \n",
            " 4   Parch     712 non-null    int64  \n",
            " 5   Fare      712 non-null    float64\n",
            " 6   Embarked  712 non-null    int32  \n",
            "dtypes: float64(2), int32(2), int64(3)\n",
            "memory usage: 38.9 KB\n"
          ]
        }
      ],
      "source": [
        "X.info()"
      ]
    },
    {
      "cell_type": "code",
      "execution_count": 27,
      "metadata": {},
      "outputs": [],
      "source": [
        "from sklearn.model_selection import cross_val_score\n",
        "from sklearn.model_selection import RepeatedStratifiedKFold\n",
        "\n",
        "accuracy = {}\n",
        "speed = {}"
      ]
    },
    {
      "cell_type": "markdown",
      "metadata": {},
      "source": [
        "## CatBoost\n"
      ]
    },
    {
      "cell_type": "code",
      "execution_count": 28,
      "metadata": {},
      "outputs": [
        {
          "name": "stdout",
          "output_type": "stream",
          "text": [
            "Mean F1 score: 75.994\n",
            "STD: 0.038\n",
            "Run Time: 3.774s\n"
          ]
        }
      ],
      "source": [
        "from catboost import CatBoostClassifier\n",
        "\n",
        "model = CatBoostClassifier(silent=True, allow_writing_files=False)\n",
        "\n",
        "start = time()\n",
        "cv = RepeatedStratifiedKFold(n_splits=5, n_repeats=5, random_state=42)\n",
        "score = cross_val_score(model, X, y, scoring='f1', cv=cv, n_jobs=-1)\n",
        "\n",
        "speed['CatBoost'] = np.round(time() - start, 3)\n",
        "accuracy['CatBoost'] = (np.mean(score) * 100).round(3)\n",
        "\n",
        "\n",
        "print(f\"Mean F1 score: {accuracy['CatBoost']}\")\n",
        "print(f\"STD: {np.std(score):.3f}\")\n",
        "print(f\"Run Time: {speed['CatBoost']}s\")"
      ]
    },
    {
      "cell_type": "markdown",
      "metadata": {},
      "source": [
        "## Light GBM"
      ]
    },
    {
      "cell_type": "code",
      "execution_count": 29,
      "metadata": {},
      "outputs": [
        {
          "name": "stdout",
          "output_type": "stream",
          "text": [
            "Mean F1 score: 75.189\n",
            "STD: 0.043\n",
            "Run Time: 3.077s\n"
          ]
        }
      ],
      "source": [
        "from lightgbm import LGBMClassifier\n",
        "\n",
        "model = LGBMClassifier()\n",
        "\n",
        "start = time()\n",
        "cv = RepeatedStratifiedKFold(n_splits=5, n_repeats=5, random_state=42)\n",
        "score = cross_val_score(model, X, y, scoring='f1', cv=cv, n_jobs=-1)\n",
        "\n",
        "speed['LGBM'] = np.round(time() - start, 3)\n",
        "accuracy['LGBM'] = (np.mean(score) * 100).round(3)\n",
        "\n",
        "print(f\"Mean F1 score: {accuracy['LGBM']}\")\n",
        "print(f\"STD: {np.std(score):.3f}\")\n",
        "print(f\"Run Time: {speed['LGBM']}s\")"
      ]
    },
    {
      "cell_type": "markdown",
      "metadata": {},
      "source": [
        "## XGBoost"
      ]
    },
    {
      "cell_type": "code",
      "execution_count": 30,
      "metadata": {},
      "outputs": [
        {
          "name": "stdout",
          "output_type": "stream",
          "text": [
            "Mean F1 score: 74.25\n",
            "STD: 0.044\n",
            "Run Time: 0.798s\n"
          ]
        }
      ],
      "source": [
        "from xgboost import XGBClassifier\n",
        "\n",
        "model = XGBClassifier()\n",
        "\n",
        "start = time()\n",
        "cv = RepeatedStratifiedKFold(n_splits=5, n_repeats=5, random_state=42)\n",
        "score = cross_val_score(model, X, y, scoring='f1', cv=cv, n_jobs=-1)\n",
        "\n",
        "speed['XGBoost'] = np.round(time() - start, 3)\n",
        "accuracy['XGBoost'] = (np.mean(score) * 100).round(3)\n",
        "\n",
        "print(f\"Mean F1 score: {accuracy['XGBoost']}\")\n",
        "print(f\"STD: {np.std(score):.3f}\")\n",
        "print(f\"Run Time: {speed['XGBoost']}s\")"
      ]
    },
    {
      "cell_type": "markdown",
      "metadata": {},
      "source": [
        "## AdaBoost"
      ]
    },
    {
      "cell_type": "code",
      "execution_count": 31,
      "metadata": {},
      "outputs": [
        {
          "name": "stdout",
          "output_type": "stream",
          "text": [
            "Mean F1 score: 74.26\n",
            "STD: 0.029\n",
            "Run Time: 0.322s\n"
          ]
        }
      ],
      "source": [
        "from sklearn.ensemble import AdaBoostClassifier\n",
        "\n",
        "model = AdaBoostClassifier()\n",
        "\n",
        "start = time()\n",
        "cv = RepeatedStratifiedKFold(n_splits=5, n_repeats=5, random_state=42)\n",
        "score = cross_val_score(model, X, y, scoring='f1', cv=cv, n_jobs=-1)\n",
        "\n",
        "speed['AdaBoost'] = np.round(time() - start, 3)\n",
        "accuracy['AdaBoost'] = (np.mean(score) * 100).round(3)\n",
        "\n",
        "print(f\"Mean F1 score: {accuracy['AdaBoost']}\")\n",
        "print(f\"STD: {np.std(score):.3f}\")\n",
        "print(f\"Run Time: {speed['AdaBoost']}s\")"
      ]
    },
    {
      "cell_type": "markdown",
      "metadata": {},
      "source": [
        "## CatBoost vs LightGBM vs XGBoost vs AdaBoost"
      ]
    },
    {
      "cell_type": "code",
      "execution_count": 32,
      "metadata": {},
      "outputs": [
        {
          "name": "stdout",
          "output_type": "stream",
          "text": [
            "CatBoost            : Score: 75.994, Speed: 3.774\n",
            "LGBM                : Score: 75.189, Speed: 3.077\n",
            "XGBoost             : Score: 74.25, Speed: 0.798\n",
            "AdaBoost            : Score: 74.26, Speed: 0.322\n"
          ]
        }
      ],
      "source": [
        "for algo, result in accuracy.items():\n",
        "    print(f\"{algo:{20}}: Score: {result}, Speed: {speed[algo]}\")"
      ]
    },
    {
      "cell_type": "markdown",
      "metadata": {
        "id": "Kl077HVMBHbC"
      },
      "source": [
        "# Обучить модели машинного обучения для решения задачи **регрессии**, используя следующие boosting-алгоритмы: [CatBoost](https://catboost.ai/en/docs/concepts/python-reference_catboostregressor), [Light GBM](https://lightgbm.readthedocs.io/en/latest/pythonapi/lightgbm.LGBMRegressor.html), [XGBoost](https://kirenz.github.io/regression/docs/xgboost-regression.html), [AdaBoost](https://scikit-learn.org/stable/modules/generated/sklearn.ensemble.AdaBoostRegressor.html). Сравнить их точность и быстродействие.\n",
        "\n",
        "Датасет: https://scikit-learn.org/stable/modules/generated/sklearn.datasets.fetch_olivetti_faces.html"
      ]
    },
    {
      "cell_type": "code",
      "execution_count": 7,
      "metadata": {},
      "outputs": [],
      "source": [
        "import pandas as pd\n",
        "import numpy as np\n",
        "from time import time\n",
        "import plotly.express as px\n",
        "import matplotlib.pyplot as plt"
      ]
    },
    {
      "cell_type": "code",
      "execution_count": 8,
      "metadata": {
        "id": "L-7hzoZHB_Wq"
      },
      "outputs": [],
      "source": [
        "from sklearn.model_selection import train_test_split\n",
        "from sklearn.datasets import fetch_olivetti_faces\n",
        "\n",
        "\n",
        "data = fetch_olivetti_faces()\n",
        "\n",
        "X =  data.images.reshape(len(data.images), -1)\n",
        "y = data.target"
      ]
    },
    {
      "cell_type": "code",
      "execution_count": 5,
      "metadata": {},
      "outputs": [],
      "source": [
        "from sklearn.model_selection import RepeatedStratifiedKFold\n",
        "from sklearn.model_selection import cross_val_score\n",
        "\n",
        "accuracy = {}\n",
        "speed = {}"
      ]
    },
    {
      "cell_type": "markdown",
      "metadata": {},
      "source": [
        "## CatBoost"
      ]
    },
    {
      "cell_type": "code",
      "execution_count": 11,
      "metadata": {},
      "outputs": [
        {
          "name": "stdout",
          "output_type": "stream",
          "text": [
            "Mean r2 score: 0.6974031951656096\n",
            "STD: 0.035\n",
            "Run Time: 1301.78s\n"
          ]
        }
      ],
      "source": [
        "from catboost import CatBoostRegressor\n",
        "\n",
        "model = CatBoostRegressor(random_state=33)\n",
        "\n",
        "start = time()\n",
        "cv = RepeatedStratifiedKFold(n_splits=5, n_repeats=5, random_state=42)\n",
        "score = cross_val_score(model, X, y, scoring='r2', cv=cv, n_jobs=-1)\n",
        "\n",
        "\n",
        "speed['CatBoost'] = np.round(time() - start, 3)\n",
        "accuracy['CatBoost'] = (np.mean(score))\n",
        "\n",
        "print(f\"Mean r2 score: {accuracy['CatBoost']}\")\n",
        "print(f\"STD: {np.std(score):.3f}\")\n",
        "print(f\"Run Time: {speed['CatBoost']}s\")"
      ]
    },
    {
      "cell_type": "markdown",
      "metadata": {},
      "source": [
        "## LightGBM"
      ]
    },
    {
      "cell_type": "code",
      "execution_count": 12,
      "metadata": {},
      "outputs": [
        {
          "name": "stdout",
          "output_type": "stream",
          "text": [
            "Mean r2 score: 0.6479446503212206\n",
            "STD: 0.044\n",
            "Run Time: 21.525s\n"
          ]
        }
      ],
      "source": [
        "from lightgbm import LGBMRegressor\n",
        "\n",
        "model = LGBMRegressor(random_state=33)\n",
        "\n",
        "start = time()\n",
        "cv = RepeatedStratifiedKFold(n_splits=5, n_repeats=5, random_state=42)\n",
        "score = cross_val_score(model, X, y, scoring='r2', cv=cv, n_jobs=-1)\n",
        "\n",
        "\n",
        "speed['LGBM'] = np.round(time() - start, 3)\n",
        "accuracy['LGBM'] = (np.mean(score))\n",
        "\n",
        "print(f\"Mean r2 score: {accuracy['LGBM']}\")\n",
        "print(f\"STD: {np.std(score):.3f}\")\n",
        "print(f\"Run Time: {speed['LGBM']}s\")"
      ]
    },
    {
      "cell_type": "markdown",
      "metadata": {},
      "source": [
        "## XGBoost"
      ]
    },
    {
      "cell_type": "code",
      "execution_count": 10,
      "metadata": {},
      "outputs": [
        {
          "name": "stdout",
          "output_type": "stream",
          "text": [
            "Mean r2 score: 0.5723590124912306\n",
            "STD: 0.067\n",
            "Run Time: 48.605s\n"
          ]
        }
      ],
      "source": [
        "from xgboost import XGBRegressor\n",
        "\n",
        "model = XGBRegressor(random_state=33)\n",
        "\n",
        "start = time()\n",
        "cv = RepeatedStratifiedKFold(n_splits=5, n_repeats=5, random_state=42)\n",
        "score = cross_val_score(model, X, y, scoring='r2', cv=cv, n_jobs=-1)\n",
        "\n",
        "\n",
        "speed['XGBoost'] = np.round(time() - start, 3)\n",
        "accuracy['XGBoost'] = (np.mean(score))\n",
        "\n",
        "print(f\"Mean r2 score: {accuracy['XGBoost']}\")\n",
        "print(f\"STD: {np.std(score):.3f}\")\n",
        "print(f\"Run Time: {speed['XGBoost']}s\")"
      ]
    },
    {
      "cell_type": "markdown",
      "metadata": {},
      "source": [
        "## AdaBoost"
      ]
    },
    {
      "cell_type": "code",
      "execution_count": 9,
      "metadata": {},
      "outputs": [
        {
          "name": "stdout",
          "output_type": "stream",
          "text": [
            "Mean r2 score: 0.5897895552499297\n",
            "STD: 0.047\n",
            "Run Time: 21.952s\n"
          ]
        }
      ],
      "source": [
        "from sklearn.ensemble import AdaBoostRegressor\n",
        "\n",
        "model = AdaBoostRegressor(random_state=33)\n",
        "\n",
        "start = time()\n",
        "cv = RepeatedStratifiedKFold(n_splits=5, n_repeats=5, random_state=42)\n",
        "score = cross_val_score(model, X, y, scoring='r2', cv=cv, n_jobs=-1)\n",
        "\n",
        "\n",
        "speed['AdaBoost'] = np.round(time() - start, 3)\n",
        "accuracy['AdaBoost'] = (np.mean(score))\n",
        "\n",
        "print(f\"Mean r2 score: {accuracy['AdaBoost']}\")\n",
        "print(f\"STD: {np.std(score):.3f}\")\n",
        "print(f\"Run Time: {speed['AdaBoost']}s\")"
      ]
    },
    {
      "cell_type": "markdown",
      "metadata": {},
      "source": [
        "## CatBoost vs LightGBM vs XGBoost vs AdaBoost"
      ]
    },
    {
      "cell_type": "code",
      "execution_count": 13,
      "metadata": {},
      "outputs": [
        {
          "name": "stdout",
          "output_type": "stream",
          "text": [
            "AdaBoost            : Score: 0.5897895552499297, Speed: 21.952\n",
            "XGBoost             : Score: 0.5723590124912306, Speed: 48.605\n",
            "CatBoost            : Score: 0.6974031951656096, Speed: 1301.78\n",
            "LGBM                : Score: 0.6479446503212206, Speed: 21.525\n"
          ]
        }
      ],
      "source": [
        "for algo, result in accuracy.items():\n",
        "    print(f\"{algo:{20}}: Score: {result}, Speed: {speed[algo]}\")"
      ]
    }
  ],
  "metadata": {
    "colab": {
      "authorship_tag": "ABX9TyM95LAcS7a7L73ow2SjOOm3",
      "include_colab_link": true,
      "provenance": []
    },
    "kernelspec": {
      "display_name": "Python 3",
      "name": "python3"
    },
    "language_info": {
      "codemirror_mode": {
        "name": "ipython",
        "version": 3
      },
      "file_extension": ".py",
      "mimetype": "text/x-python",
      "name": "python",
      "nbconvert_exporter": "python",
      "pygments_lexer": "ipython3",
      "version": "3.9.13"
    }
  },
  "nbformat": 4,
  "nbformat_minor": 0
}
