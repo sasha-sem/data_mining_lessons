{
  "cells": [
    {
      "cell_type": "markdown",
      "metadata": {
        "colab_type": "text",
        "id": "view-in-github"
      },
      "source": [
        "<a href=\"https://colab.research.google.com/github/Alexandre77777/data_mining/blob/main/3.%20%D0%9C%D0%B5%D1%82%D0%BE%D0%B4%20k-%D0%B1%D0%BB%D0%B8%D0%B6%D0%B0%D0%B9%D1%88%D0%B8%D1%85%20%D1%81%D0%BE%D1%81%D0%B5%D0%B4%D0%B5%D0%B9/%D0%9F%D1%80%D0%B0%D0%BA%D1%82%D0%B8%D1%87%D0%B5%D1%81%D0%BA%D0%B0%D1%8F%20%D1%80%D0%B0%D0%B1%D0%BE%D1%82%D0%B0%206.%20%D0%9C%D0%B5%D1%82%D0%BE%D0%B4_K_%D0%B1%D0%BB%D0%B8%D0%B6%D0%B0%D0%B9%D1%88%D0%B8%D1%85_%D1%81%D0%BE%D1%81%D0%B5%D0%B4%D0%B5%D0%B9.ipynb\" target=\"_parent\"><img src=\"https://colab.research.google.com/assets/colab-badge.svg\" alt=\"Open In Colab\"/></a>\n"
      ]
    },
    {
      "cell_type": "markdown",
      "metadata": {
        "id": "YENBrjbPiQwC"
      },
      "source": [
        "# _K_ ближайших соседей\n"
      ]
    },
    {
      "cell_type": "markdown",
      "metadata": {
        "id": "a-Yv7TEn3mnK"
      },
      "source": [
        "## [Ссылка на код с пары](https://colab.research.google.com/drive/1VCRO7GkMyCvmQIy1rzWpK1Wtueya1IFo?usp=sharing)\n"
      ]
    },
    {
      "cell_type": "markdown",
      "metadata": {
        "id": "j-QTJXkcZTeA"
      },
      "source": [
        "## KNN для классификации\n"
      ]
    },
    {
      "cell_type": "markdown",
      "metadata": {
        "id": "RmcjY5KeviKG"
      },
      "source": [
        "### Получение данных\n",
        "\n",
        "Будем работать с набором данным `iris` из `sklearn`.\n"
      ]
    },
    {
      "cell_type": "code",
      "execution_count": 1,
      "metadata": {
        "colab": {
          "base_uri": "https://localhost:8080/",
          "height": 206
        },
        "id": "zAT1q9GrZjK_",
        "outputId": "15184626-34b1-48ef-cd54-803728d6a3e8"
      },
      "outputs": [
        {
          "data": {
            "text/html": [
              "<div>\n",
              "<style scoped>\n",
              "    .dataframe tbody tr th:only-of-type {\n",
              "        vertical-align: middle;\n",
              "    }\n",
              "\n",
              "    .dataframe tbody tr th {\n",
              "        vertical-align: top;\n",
              "    }\n",
              "\n",
              "    .dataframe thead th {\n",
              "        text-align: right;\n",
              "    }\n",
              "</style>\n",
              "<table border=\"1\" class=\"dataframe\">\n",
              "  <thead>\n",
              "    <tr style=\"text-align: right;\">\n",
              "      <th></th>\n",
              "      <th>sepal length (cm)</th>\n",
              "      <th>sepal width (cm)</th>\n",
              "      <th>petal length (cm)</th>\n",
              "      <th>petal width (cm)</th>\n",
              "    </tr>\n",
              "  </thead>\n",
              "  <tbody>\n",
              "    <tr>\n",
              "      <th>0</th>\n",
              "      <td>5.1</td>\n",
              "      <td>3.5</td>\n",
              "      <td>1.4</td>\n",
              "      <td>0.2</td>\n",
              "    </tr>\n",
              "    <tr>\n",
              "      <th>1</th>\n",
              "      <td>4.9</td>\n",
              "      <td>3.0</td>\n",
              "      <td>1.4</td>\n",
              "      <td>0.2</td>\n",
              "    </tr>\n",
              "    <tr>\n",
              "      <th>2</th>\n",
              "      <td>4.7</td>\n",
              "      <td>3.2</td>\n",
              "      <td>1.3</td>\n",
              "      <td>0.2</td>\n",
              "    </tr>\n",
              "    <tr>\n",
              "      <th>3</th>\n",
              "      <td>4.6</td>\n",
              "      <td>3.1</td>\n",
              "      <td>1.5</td>\n",
              "      <td>0.2</td>\n",
              "    </tr>\n",
              "    <tr>\n",
              "      <th>4</th>\n",
              "      <td>5.0</td>\n",
              "      <td>3.6</td>\n",
              "      <td>1.4</td>\n",
              "      <td>0.2</td>\n",
              "    </tr>\n",
              "  </tbody>\n",
              "</table>\n",
              "</div>"
            ],
            "text/plain": [
              "   sepal length (cm)  sepal width (cm)  petal length (cm)  petal width (cm)\n",
              "0                5.1               3.5                1.4               0.2\n",
              "1                4.9               3.0                1.4               0.2\n",
              "2                4.7               3.2                1.3               0.2\n",
              "3                4.6               3.1                1.5               0.2\n",
              "4                5.0               3.6                1.4               0.2"
            ]
          },
          "execution_count": 1,
          "metadata": {},
          "output_type": "execute_result"
        }
      ],
      "source": [
        "from sklearn.datasets import load_iris\n",
        "import pandas as pd\n",
        "\n",
        "\n",
        "data = load_iris()\n",
        "\n",
        "X = pd.DataFrame(data['data'], columns=data['feature_names'])\n",
        "y = data['target']\n",
        "\n",
        "X.head()"
      ]
    },
    {
      "cell_type": "markdown",
      "metadata": {
        "id": "xOH9vcIRjQCD"
      },
      "source": [
        "### 1. KNN из sklearn\n"
      ]
    },
    {
      "cell_type": "markdown",
      "metadata": {
        "id": "QemJi8jZaCBK"
      },
      "source": [
        "#### 1.1. Разбейте данные на обучение и тест\n"
      ]
    },
    {
      "cell_type": "code",
      "execution_count": 2,
      "metadata": {
        "id": "om8oxSnUa6RI"
      },
      "outputs": [
        {
          "data": {
            "text/plain": [
              "((105, 4), (45, 4))"
            ]
          },
          "execution_count": 2,
          "metadata": {},
          "output_type": "execute_result"
        }
      ],
      "source": [
        "from sklearn.model_selection import train_test_split\n",
        "\n",
        "X_train, X_test, y_train, y_test = train_test_split(\n",
        "    X, y, test_size=0.3, random_state=42)\n",
        "X_train.shape, X_test.shape"
      ]
    },
    {
      "cell_type": "markdown",
      "metadata": {
        "id": "ydb1Ob1YaHrg"
      },
      "source": [
        "#### 1.2. Обучите модель KNN\n"
      ]
    },
    {
      "cell_type": "code",
      "execution_count": 3,
      "metadata": {
        "id": "QJTeNUY-bJLr"
      },
      "outputs": [
        {
          "data": {
            "text/html": [
              "<style>#sk-container-id-1 {color: black;background-color: white;}#sk-container-id-1 pre{padding: 0;}#sk-container-id-1 div.sk-toggleable {background-color: white;}#sk-container-id-1 label.sk-toggleable__label {cursor: pointer;display: block;width: 100%;margin-bottom: 0;padding: 0.3em;box-sizing: border-box;text-align: center;}#sk-container-id-1 label.sk-toggleable__label-arrow:before {content: \"▸\";float: left;margin-right: 0.25em;color: #696969;}#sk-container-id-1 label.sk-toggleable__label-arrow:hover:before {color: black;}#sk-container-id-1 div.sk-estimator:hover label.sk-toggleable__label-arrow:before {color: black;}#sk-container-id-1 div.sk-toggleable__content {max-height: 0;max-width: 0;overflow: hidden;text-align: left;background-color: #f0f8ff;}#sk-container-id-1 div.sk-toggleable__content pre {margin: 0.2em;color: black;border-radius: 0.25em;background-color: #f0f8ff;}#sk-container-id-1 input.sk-toggleable__control:checked~div.sk-toggleable__content {max-height: 200px;max-width: 100%;overflow: auto;}#sk-container-id-1 input.sk-toggleable__control:checked~label.sk-toggleable__label-arrow:before {content: \"▾\";}#sk-container-id-1 div.sk-estimator input.sk-toggleable__control:checked~label.sk-toggleable__label {background-color: #d4ebff;}#sk-container-id-1 div.sk-label input.sk-toggleable__control:checked~label.sk-toggleable__label {background-color: #d4ebff;}#sk-container-id-1 input.sk-hidden--visually {border: 0;clip: rect(1px 1px 1px 1px);clip: rect(1px, 1px, 1px, 1px);height: 1px;margin: -1px;overflow: hidden;padding: 0;position: absolute;width: 1px;}#sk-container-id-1 div.sk-estimator {font-family: monospace;background-color: #f0f8ff;border: 1px dotted black;border-radius: 0.25em;box-sizing: border-box;margin-bottom: 0.5em;}#sk-container-id-1 div.sk-estimator:hover {background-color: #d4ebff;}#sk-container-id-1 div.sk-parallel-item::after {content: \"\";width: 100%;border-bottom: 1px solid gray;flex-grow: 1;}#sk-container-id-1 div.sk-label:hover label.sk-toggleable__label {background-color: #d4ebff;}#sk-container-id-1 div.sk-serial::before {content: \"\";position: absolute;border-left: 1px solid gray;box-sizing: border-box;top: 0;bottom: 0;left: 50%;z-index: 0;}#sk-container-id-1 div.sk-serial {display: flex;flex-direction: column;align-items: center;background-color: white;padding-right: 0.2em;padding-left: 0.2em;position: relative;}#sk-container-id-1 div.sk-item {position: relative;z-index: 1;}#sk-container-id-1 div.sk-parallel {display: flex;align-items: stretch;justify-content: center;background-color: white;position: relative;}#sk-container-id-1 div.sk-item::before, #sk-container-id-1 div.sk-parallel-item::before {content: \"\";position: absolute;border-left: 1px solid gray;box-sizing: border-box;top: 0;bottom: 0;left: 50%;z-index: -1;}#sk-container-id-1 div.sk-parallel-item {display: flex;flex-direction: column;z-index: 1;position: relative;background-color: white;}#sk-container-id-1 div.sk-parallel-item:first-child::after {align-self: flex-end;width: 50%;}#sk-container-id-1 div.sk-parallel-item:last-child::after {align-self: flex-start;width: 50%;}#sk-container-id-1 div.sk-parallel-item:only-child::after {width: 0;}#sk-container-id-1 div.sk-dashed-wrapped {border: 1px dashed gray;margin: 0 0.4em 0.5em 0.4em;box-sizing: border-box;padding-bottom: 0.4em;background-color: white;}#sk-container-id-1 div.sk-label label {font-family: monospace;font-weight: bold;display: inline-block;line-height: 1.2em;}#sk-container-id-1 div.sk-label-container {text-align: center;}#sk-container-id-1 div.sk-container {/* jupyter's `normalize.less` sets `[hidden] { display: none; }` but bootstrap.min.css set `[hidden] { display: none !important; }` so we also need the `!important` here to be able to override the default hidden behavior on the sphinx rendered scikit-learn.org. See: https://github.com/scikit-learn/scikit-learn/issues/21755 */display: inline-block !important;position: relative;}#sk-container-id-1 div.sk-text-repr-fallback {display: none;}</style><div id=\"sk-container-id-1\" class=\"sk-top-container\"><div class=\"sk-text-repr-fallback\"><pre>KNeighborsClassifier(n_neighbors=3)</pre><b>In a Jupyter environment, please rerun this cell to show the HTML representation or trust the notebook. <br />On GitHub, the HTML representation is unable to render, please try loading this page with nbviewer.org.</b></div><div class=\"sk-container\" hidden><div class=\"sk-item\"><div class=\"sk-estimator sk-toggleable\"><input class=\"sk-toggleable__control sk-hidden--visually\" id=\"sk-estimator-id-1\" type=\"checkbox\" checked><label for=\"sk-estimator-id-1\" class=\"sk-toggleable__label sk-toggleable__label-arrow\">KNeighborsClassifier</label><div class=\"sk-toggleable__content\"><pre>KNeighborsClassifier(n_neighbors=3)</pre></div></div></div></div></div>"
            ],
            "text/plain": [
              "KNeighborsClassifier(n_neighbors=3)"
            ]
          },
          "execution_count": 3,
          "metadata": {},
          "output_type": "execute_result"
        }
      ],
      "source": [
        "from sklearn.neighbors import KNeighborsClassifier\n",
        "\n",
        "n_neighbors = 3\n",
        "model = KNeighborsClassifier(n_neighbors=n_neighbors)\n",
        "model.fit(X_train, y_train)"
      ]
    },
    {
      "cell_type": "markdown",
      "metadata": {
        "id": "PYE6TJB9aLc1"
      },
      "source": [
        "#### 1.3. Проверьте качество работы модели\n"
      ]
    },
    {
      "cell_type": "code",
      "execution_count": 4,
      "metadata": {
        "id": "vl-hj0XlbZCa"
      },
      "outputs": [
        {
          "data": {
            "text/plain": [
              "array([1, 0, 2, 1, 1, 0, 1, 2, 1, 1, 2, 0, 0, 0, 0, 1, 2, 1, 1, 2, 0, 2,\n",
              "       0, 2, 2, 2, 2, 2, 0, 0, 0, 0, 1, 0, 0, 2, 1, 0, 0, 0, 2, 1, 1, 0,\n",
              "       0])"
            ]
          },
          "metadata": {},
          "output_type": "display_data"
        },
        {
          "data": {
            "text/plain": [
              "array([1., 0., 2., 1., 1., 0., 1., 2., 1., 1., 2., 0., 0., 0., 0., 1., 2.,\n",
              "       1., 1., 2., 0., 2., 0., 2., 2., 2., 2., 2., 0., 0., 0., 0., 1., 0.,\n",
              "       0., 2., 1., 0., 0., 0., 2., 1., 1., 0., 0.])"
            ]
          },
          "metadata": {},
          "output_type": "display_data"
        }
      ],
      "source": [
        "pred_test = model.predict(X_test)\n",
        "display(pred_test, y_test.astype(dtype='float'))"
      ]
    },
    {
      "cell_type": "code",
      "execution_count": 5,
      "metadata": {},
      "outputs": [
        {
          "data": {
            "text/plain": [
              "1.0"
            ]
          },
          "execution_count": 5,
          "metadata": {},
          "output_type": "execute_result"
        }
      ],
      "source": [
        "from sklearn.metrics import accuracy_score\n",
        "accuracy = accuracy_score(pred_test, y_test)\n",
        "accuracy"
      ]
    },
    {
      "cell_type": "markdown",
      "metadata": {
        "id": "fCF__dT-absO"
      },
      "source": [
        "#### 1.4. Поэкспериментируйте с количеством соседей\n",
        "\n",
        "1. Обучите модели с разным кол-вом соседей\n",
        "2. Посчитайте метрику на тестовой выборке\n",
        "3. Соберите данные в таблицу/график для наглядности\n",
        "4. Выберите самое оптимальное значение $k$\n"
      ]
    },
    {
      "cell_type": "code",
      "execution_count": 6,
      "metadata": {
        "id": "UcKGXomMbs20"
      },
      "outputs": [
        {
          "data": {
            "text/html": [
              "<div>\n",
              "<style scoped>\n",
              "    .dataframe tbody tr th:only-of-type {\n",
              "        vertical-align: middle;\n",
              "    }\n",
              "\n",
              "    .dataframe tbody tr th {\n",
              "        vertical-align: top;\n",
              "    }\n",
              "\n",
              "    .dataframe thead th {\n",
              "        text-align: right;\n",
              "    }\n",
              "</style>\n",
              "<table border=\"1\" class=\"dataframe\">\n",
              "  <thead>\n",
              "    <tr style=\"text-align: right;\">\n",
              "      <th></th>\n",
              "      <th>neighbours_count</th>\n",
              "      <th>accuracy</th>\n",
              "    </tr>\n",
              "  </thead>\n",
              "  <tbody>\n",
              "    <tr>\n",
              "      <th>0</th>\n",
              "      <td>0.0</td>\n",
              "      <td>1.0</td>\n",
              "    </tr>\n",
              "    <tr>\n",
              "      <th>1</th>\n",
              "      <td>1.0</td>\n",
              "      <td>1.0</td>\n",
              "    </tr>\n",
              "    <tr>\n",
              "      <th>2</th>\n",
              "      <td>2.0</td>\n",
              "      <td>1.0</td>\n",
              "    </tr>\n",
              "    <tr>\n",
              "      <th>3</th>\n",
              "      <td>3.0</td>\n",
              "      <td>1.0</td>\n",
              "    </tr>\n",
              "    <tr>\n",
              "      <th>4</th>\n",
              "      <td>4.0</td>\n",
              "      <td>1.0</td>\n",
              "    </tr>\n",
              "    <tr>\n",
              "      <th>5</th>\n",
              "      <td>5.0</td>\n",
              "      <td>1.0</td>\n",
              "    </tr>\n",
              "    <tr>\n",
              "      <th>6</th>\n",
              "      <td>6.0</td>\n",
              "      <td>1.0</td>\n",
              "    </tr>\n",
              "    <tr>\n",
              "      <th>7</th>\n",
              "      <td>7.0</td>\n",
              "      <td>1.0</td>\n",
              "    </tr>\n",
              "    <tr>\n",
              "      <th>8</th>\n",
              "      <td>8.0</td>\n",
              "      <td>1.0</td>\n",
              "    </tr>\n",
              "    <tr>\n",
              "      <th>9</th>\n",
              "      <td>9.0</td>\n",
              "      <td>1.0</td>\n",
              "    </tr>\n",
              "    <tr>\n",
              "      <th>10</th>\n",
              "      <td>10.0</td>\n",
              "      <td>1.0</td>\n",
              "    </tr>\n",
              "    <tr>\n",
              "      <th>11</th>\n",
              "      <td>11.0</td>\n",
              "      <td>1.0</td>\n",
              "    </tr>\n",
              "    <tr>\n",
              "      <th>12</th>\n",
              "      <td>12.0</td>\n",
              "      <td>1.0</td>\n",
              "    </tr>\n",
              "    <tr>\n",
              "      <th>13</th>\n",
              "      <td>13.0</td>\n",
              "      <td>1.0</td>\n",
              "    </tr>\n",
              "    <tr>\n",
              "      <th>14</th>\n",
              "      <td>14.0</td>\n",
              "      <td>1.0</td>\n",
              "    </tr>\n",
              "    <tr>\n",
              "      <th>15</th>\n",
              "      <td>15.0</td>\n",
              "      <td>1.0</td>\n",
              "    </tr>\n",
              "    <tr>\n",
              "      <th>16</th>\n",
              "      <td>16.0</td>\n",
              "      <td>1.0</td>\n",
              "    </tr>\n",
              "    <tr>\n",
              "      <th>17</th>\n",
              "      <td>17.0</td>\n",
              "      <td>1.0</td>\n",
              "    </tr>\n",
              "    <tr>\n",
              "      <th>18</th>\n",
              "      <td>18.0</td>\n",
              "      <td>1.0</td>\n",
              "    </tr>\n",
              "    <tr>\n",
              "      <th>19</th>\n",
              "      <td>19.0</td>\n",
              "      <td>1.0</td>\n",
              "    </tr>\n",
              "    <tr>\n",
              "      <th>20</th>\n",
              "      <td>20.0</td>\n",
              "      <td>1.0</td>\n",
              "    </tr>\n",
              "    <tr>\n",
              "      <th>21</th>\n",
              "      <td>21.0</td>\n",
              "      <td>1.0</td>\n",
              "    </tr>\n",
              "    <tr>\n",
              "      <th>22</th>\n",
              "      <td>22.0</td>\n",
              "      <td>1.0</td>\n",
              "    </tr>\n",
              "    <tr>\n",
              "      <th>23</th>\n",
              "      <td>23.0</td>\n",
              "      <td>1.0</td>\n",
              "    </tr>\n",
              "    <tr>\n",
              "      <th>24</th>\n",
              "      <td>24.0</td>\n",
              "      <td>1.0</td>\n",
              "    </tr>\n",
              "    <tr>\n",
              "      <th>25</th>\n",
              "      <td>25.0</td>\n",
              "      <td>1.0</td>\n",
              "    </tr>\n",
              "    <tr>\n",
              "      <th>26</th>\n",
              "      <td>26.0</td>\n",
              "      <td>1.0</td>\n",
              "    </tr>\n",
              "    <tr>\n",
              "      <th>27</th>\n",
              "      <td>27.0</td>\n",
              "      <td>1.0</td>\n",
              "    </tr>\n",
              "    <tr>\n",
              "      <th>28</th>\n",
              "      <td>28.0</td>\n",
              "      <td>1.0</td>\n",
              "    </tr>\n",
              "    <tr>\n",
              "      <th>29</th>\n",
              "      <td>29.0</td>\n",
              "      <td>1.0</td>\n",
              "    </tr>\n",
              "    <tr>\n",
              "      <th>30</th>\n",
              "      <td>30.0</td>\n",
              "      <td>1.0</td>\n",
              "    </tr>\n",
              "    <tr>\n",
              "      <th>31</th>\n",
              "      <td>31.0</td>\n",
              "      <td>1.0</td>\n",
              "    </tr>\n",
              "    <tr>\n",
              "      <th>32</th>\n",
              "      <td>32.0</td>\n",
              "      <td>1.0</td>\n",
              "    </tr>\n",
              "    <tr>\n",
              "      <th>33</th>\n",
              "      <td>33.0</td>\n",
              "      <td>1.0</td>\n",
              "    </tr>\n",
              "    <tr>\n",
              "      <th>34</th>\n",
              "      <td>34.0</td>\n",
              "      <td>1.0</td>\n",
              "    </tr>\n",
              "    <tr>\n",
              "      <th>35</th>\n",
              "      <td>35.0</td>\n",
              "      <td>1.0</td>\n",
              "    </tr>\n",
              "    <tr>\n",
              "      <th>36</th>\n",
              "      <td>36.0</td>\n",
              "      <td>1.0</td>\n",
              "    </tr>\n",
              "    <tr>\n",
              "      <th>37</th>\n",
              "      <td>37.0</td>\n",
              "      <td>1.0</td>\n",
              "    </tr>\n",
              "  </tbody>\n",
              "</table>\n",
              "</div>"
            ],
            "text/plain": [
              "    neighbours_count  accuracy\n",
              "0                0.0       1.0\n",
              "1                1.0       1.0\n",
              "2                2.0       1.0\n",
              "3                3.0       1.0\n",
              "4                4.0       1.0\n",
              "5                5.0       1.0\n",
              "6                6.0       1.0\n",
              "7                7.0       1.0\n",
              "8                8.0       1.0\n",
              "9                9.0       1.0\n",
              "10              10.0       1.0\n",
              "11              11.0       1.0\n",
              "12              12.0       1.0\n",
              "13              13.0       1.0\n",
              "14              14.0       1.0\n",
              "15              15.0       1.0\n",
              "16              16.0       1.0\n",
              "17              17.0       1.0\n",
              "18              18.0       1.0\n",
              "19              19.0       1.0\n",
              "20              20.0       1.0\n",
              "21              21.0       1.0\n",
              "22              22.0       1.0\n",
              "23              23.0       1.0\n",
              "24              24.0       1.0\n",
              "25              25.0       1.0\n",
              "26              26.0       1.0\n",
              "27              27.0       1.0\n",
              "28              28.0       1.0\n",
              "29              29.0       1.0\n",
              "30              30.0       1.0\n",
              "31              31.0       1.0\n",
              "32              32.0       1.0\n",
              "33              33.0       1.0\n",
              "34              34.0       1.0\n",
              "35              35.0       1.0\n",
              "36              36.0       1.0\n",
              "37              37.0       1.0"
            ]
          },
          "execution_count": 6,
          "metadata": {},
          "output_type": "execute_result"
        }
      ],
      "source": [
        "df = pd.DataFrame({'neighbours_count': pd.Series(dtype='int'),\n",
        "                   'accuracy': pd.Series(dtype='float')})\n",
        "\n",
        "for i in range(0, 38):\n",
        "    knn = KNeighborsClassifier(n_neighbors=i+1)\n",
        "    knn.fit(X_train, y_train)\n",
        "    y_pred = knn.predict(X_test)\n",
        "    acc = accuracy_score(y_test, pred_test)\n",
        "    df.loc[i] = [i, acc]\n",
        "\n",
        "\n",
        "df.head(50)"
      ]
    },
    {
      "cell_type": "markdown",
      "metadata": {
        "id": "qH3q0I8NjYMm"
      },
      "source": [
        "### 2. KNN рукописный\n"
      ]
    },
    {
      "cell_type": "markdown",
      "metadata": {
        "id": "Olg8V-N-fvOK"
      },
      "source": [
        "#### 2.1. Возьмите два случайных тестовых объектов\n"
      ]
    },
    {
      "cell_type": "code",
      "execution_count": 7,
      "metadata": {
        "id": "ERnHFdEqf6zD"
      },
      "outputs": [
        {
          "data": {
            "text/html": [
              "<div>\n",
              "<style scoped>\n",
              "    .dataframe tbody tr th:only-of-type {\n",
              "        vertical-align: middle;\n",
              "    }\n",
              "\n",
              "    .dataframe tbody tr th {\n",
              "        vertical-align: top;\n",
              "    }\n",
              "\n",
              "    .dataframe thead th {\n",
              "        text-align: right;\n",
              "    }\n",
              "</style>\n",
              "<table border=\"1\" class=\"dataframe\">\n",
              "  <thead>\n",
              "    <tr style=\"text-align: right;\">\n",
              "      <th></th>\n",
              "      <th>sepal length (cm)</th>\n",
              "      <th>sepal width (cm)</th>\n",
              "      <th>petal length (cm)</th>\n",
              "      <th>petal width (cm)</th>\n",
              "    </tr>\n",
              "  </thead>\n",
              "  <tbody>\n",
              "    <tr>\n",
              "      <th>15</th>\n",
              "      <td>5.7</td>\n",
              "      <td>4.4</td>\n",
              "      <td>1.5</td>\n",
              "      <td>0.4</td>\n",
              "    </tr>\n",
              "    <tr>\n",
              "      <th>86</th>\n",
              "      <td>6.7</td>\n",
              "      <td>3.1</td>\n",
              "      <td>4.7</td>\n",
              "      <td>1.5</td>\n",
              "    </tr>\n",
              "  </tbody>\n",
              "</table>\n",
              "</div>"
            ],
            "text/plain": [
              "    sepal length (cm)  sepal width (cm)  petal length (cm)  petal width (cm)\n",
              "15                5.7               4.4                1.5               0.4\n",
              "86                6.7               3.1                4.7               1.5"
            ]
          },
          "execution_count": 7,
          "metadata": {},
          "output_type": "execute_result"
        }
      ],
      "source": [
        "import numpy as np\n",
        "\n",
        "random_objects = X_test.sample(n=2)\n",
        "\n",
        "random_objects"
      ]
    },
    {
      "cell_type": "markdown",
      "metadata": {
        "id": "dAnt1-TXgDMH"
      },
      "source": [
        "#### 2.2. Посчитайте для каждого расстояния до всех объектов из обучения\n"
      ]
    },
    {
      "cell_type": "code",
      "execution_count": 8,
      "metadata": {
        "id": "2NCFr_LQf8U2"
      },
      "outputs": [],
      "source": [
        "import numpy as np\n",
        "import pandas as pd\n",
        "\n",
        "distances = pd.DataFrame({\n",
        "    'object_idx': pd.Series(dtype='int8'),\n",
        "    'train_idx': pd.Series(dtype='int8'),\n",
        "    'dst': pd.Series(dtype='float')\n",
        "})\n",
        "\n",
        "for test_idx, test_row in random_objects.iterrows():\n",
        "    for i, train_dot in X_train.iterrows(): \n",
        "        distances.loc[len(distances)+1] = [test_idx, i, np.linalg.norm(test_row.values - train_dot.values, ord=2)]"
      ]
    },
    {
      "cell_type": "markdown",
      "metadata": {
        "id": "SOUxgMKJhet8"
      },
      "source": [
        "#### 2.3. Выберите топ $k$ соседей для каждого объекта\n"
      ]
    },
    {
      "cell_type": "code",
      "execution_count": 9,
      "metadata": {
        "id": "blONtQ5hf8qk"
      },
      "outputs": [
        {
          "name": "stdout",
          "output_type": "stream",
          "text": [
            "     object_idx  train_idx       dst\n",
            "27         15.0       33.0  0.360555\n",
            "103        15.0       14.0  0.547723\n",
            "34         15.0        5.0  0.616441\n",
            "     object_idx  train_idx       dst\n",
            "196        86.0       52.0  0.282843\n",
            "183        86.0       58.0  0.316228\n",
            "173        86.0       50.0  0.331662\n"
          ]
        }
      ],
      "source": [
        "distances.sort_values(['object_idx', 'dst'], ascending=True).head(1000)\n",
        "for test_idx, test_row in random_objects.iterrows():\n",
        "    print(distances[distances['object_idx']==test_idx].sort_values(['dst']).head(3))"
      ]
    },
    {
      "cell_type": "markdown",
      "metadata": {
        "id": "ZWEAPcdLh9u0"
      },
      "source": [
        "#### 2.4. Выведите финальное предсказание для двух объектов основываясь на соседях\n"
      ]
    },
    {
      "cell_type": "code",
      "execution_count": 10,
      "metadata": {},
      "outputs": [],
      "source": [
        "nearest_neigbors_idxs = pd.Series(dtype='int')\n",
        "test_points_X = []\n",
        "test_points_Y = []\n",
        "for test_idx, test_row in random_objects.iterrows():\n",
        "    test_points_X.append(X_test.loc[test_idx].values[0])\n",
        "    test_points_Y.append(X_test.loc[test_idx].values[1])\n",
        "    nearest_neigbors_idxs = pd.concat(\n",
        "        [nearest_neigbors_idxs, distances[distances['object_idx'] == test_idx].sort_values(['dst']).head(3)['train_idx']])\n",
        "nearest_neigbors_idxs = nearest_neigbors_idxs.values.astype(dtype='int')"
      ]
    },
    {
      "cell_type": "code",
      "execution_count": 13,
      "metadata": {
        "id": "pqLrhMoAiDB2"
      },
      "outputs": [
        {
          "data": {
            "text/plain": [
              "<matplotlib.legend.Legend at 0x213ed5ecd00>"
            ]
          },
          "execution_count": 13,
          "metadata": {},
          "output_type": "execute_result"
        },
        {
          "data": {
            "image/png": "[encoded data removed]",
            "text/plain": [
              "<Figure size 1000x800 with 1 Axes>"
            ]
          },
          "metadata": {},
          "output_type": "display_data"
        }
      ],
      "source": [
        "import seaborn as sns\n",
        "import matplotlib.pyplot as plt\n",
        "from matplotlib.colors import ListedColormap\n",
        "\n",
        "cmap_bold = [\"darkorange\", \"darkblue\"]\n",
        "\n",
        "\n",
        "\n",
        "plt.figure(figsize=(10, 8))\n",
        "sns.scatterplot(\n",
        "    x=X_train.iloc[:, 0],\n",
        "    y=X_train.iloc[:, 1],\n",
        "    hue=y_train,\n",
        ")\n",
        "\n",
        "plt.scatter(X_train.iloc[:,0].loc[nearest_neigbors_idxs], X_train.iloc[:,1].loc[nearest_neigbors_idxs],\n",
        "            c='g', alpha=0.3, marker='o', s=100, label='nearest neighbors')\n",
        "\n",
        "plt.scatter(test_points_X, test_points_Y, c='g',\n",
        "            marker='*', s=100, label='test dot')\n",
        "plt.legend()"
      ]
    },
    {
      "cell_type": "markdown",
      "metadata": {
        "id": "CUDu3i0aigbm"
      },
      "source": [
        "#### 2.5. Сравните с настоящими целевыми значениями этих двух объектов\n"
      ]
    },
    {
      "cell_type": "code",
      "execution_count": 29,
      "metadata": {
        "id": "CDjiYUWEifvj"
      },
      "outputs": [
        {
          "name": "stdout",
          "output_type": "stream",
          "text": [
            "Real value: 0 – Predicted value: 0\n",
            "Real value: 1 – Predicted value: 1\n"
          ]
        }
      ],
      "source": [
        "import statistics\n",
        "\n",
        "for test_idx, test_row in random_objects.iterrows():\n",
        "    idx = X_test.index.to_list().index(test_idx)\n",
        "    real_value = y_test[idx]\n",
        "    prdicted_values = []\n",
        "    neigbors = distances[distances['object_idx'] == test_idx].sort_values(['dst']).head(3)['train_idx']\n",
        "    for train_idx in neigbors:\n",
        "        prdicted_values.append(y_train[X_train.index.to_list().index(train_idx)])\n",
        "    print('Real value:', real_value,'–', 'Predicted value:', statistics.mode(prdicted_values))\n",
        "    "
      ]
    },
    {
      "cell_type": "markdown",
      "metadata": {
        "id": "LA_DojJMZVG3"
      },
      "source": [
        "## KNN для регрессии\n"
      ]
    },
    {
      "cell_type": "markdown",
      "metadata": {
        "id": "jNJDBamtj_sy"
      },
      "source": [
        "### Получение данных\n"
      ]
    },
    {
      "cell_type": "markdown",
      "metadata": {
        "id": "K9XUjue5M0Q8"
      },
      "source": [
        "Будем работать с набором данных для задачи регрессии - данные по предсказанию стоимости недвижимости.\n"
      ]
    },
    {
      "cell_type": "code",
      "execution_count": 30,
      "metadata": {
        "colab": {
          "base_uri": "https://localhost:8080/",
          "height": 424
        },
        "id": "J6JNfZQfe87Z",
        "outputId": "74ebccff-a983-42c1-b86b-b80c5a4fe991"
      },
      "outputs": [
        {
          "data": {
            "text/html": [
              "<div>\n",
              "<style scoped>\n",
              "    .dataframe tbody tr th:only-of-type {\n",
              "        vertical-align: middle;\n",
              "    }\n",
              "\n",
              "    .dataframe tbody tr th {\n",
              "        vertical-align: top;\n",
              "    }\n",
              "\n",
              "    .dataframe thead th {\n",
              "        text-align: right;\n",
              "    }\n",
              "</style>\n",
              "<table border=\"1\" class=\"dataframe\">\n",
              "  <thead>\n",
              "    <tr style=\"text-align: right;\">\n",
              "      <th></th>\n",
              "      <th>MedInc</th>\n",
              "      <th>HouseAge</th>\n",
              "      <th>AveRooms</th>\n",
              "      <th>AveBedrms</th>\n",
              "      <th>Population</th>\n",
              "      <th>AveOccup</th>\n",
              "      <th>Latitude</th>\n",
              "      <th>Longitude</th>\n",
              "    </tr>\n",
              "  </thead>\n",
              "  <tbody>\n",
              "    <tr>\n",
              "      <th>0</th>\n",
              "      <td>8.3252</td>\n",
              "      <td>41.0</td>\n",
              "      <td>6.984127</td>\n",
              "      <td>1.023810</td>\n",
              "      <td>322.0</td>\n",
              "      <td>2.555556</td>\n",
              "      <td>37.88</td>\n",
              "      <td>-122.23</td>\n",
              "    </tr>\n",
              "    <tr>\n",
              "      <th>1</th>\n",
              "      <td>8.3014</td>\n",
              "      <td>21.0</td>\n",
              "      <td>6.238137</td>\n",
              "      <td>0.971880</td>\n",
              "      <td>2401.0</td>\n",
              "      <td>2.109842</td>\n",
              "      <td>37.86</td>\n",
              "      <td>-122.22</td>\n",
              "    </tr>\n",
              "    <tr>\n",
              "      <th>2</th>\n",
              "      <td>7.2574</td>\n",
              "      <td>52.0</td>\n",
              "      <td>8.288136</td>\n",
              "      <td>1.073446</td>\n",
              "      <td>496.0</td>\n",
              "      <td>2.802260</td>\n",
              "      <td>37.85</td>\n",
              "      <td>-122.24</td>\n",
              "    </tr>\n",
              "    <tr>\n",
              "      <th>3</th>\n",
              "      <td>5.6431</td>\n",
              "      <td>52.0</td>\n",
              "      <td>5.817352</td>\n",
              "      <td>1.073059</td>\n",
              "      <td>558.0</td>\n",
              "      <td>2.547945</td>\n",
              "      <td>37.85</td>\n",
              "      <td>-122.25</td>\n",
              "    </tr>\n",
              "    <tr>\n",
              "      <th>4</th>\n",
              "      <td>3.8462</td>\n",
              "      <td>52.0</td>\n",
              "      <td>6.281853</td>\n",
              "      <td>1.081081</td>\n",
              "      <td>565.0</td>\n",
              "      <td>2.181467</td>\n",
              "      <td>37.85</td>\n",
              "      <td>-122.25</td>\n",
              "    </tr>\n",
              "    <tr>\n",
              "      <th>...</th>\n",
              "      <td>...</td>\n",
              "      <td>...</td>\n",
              "      <td>...</td>\n",
              "      <td>...</td>\n",
              "      <td>...</td>\n",
              "      <td>...</td>\n",
              "      <td>...</td>\n",
              "      <td>...</td>\n",
              "    </tr>\n",
              "    <tr>\n",
              "      <th>20635</th>\n",
              "      <td>1.5603</td>\n",
              "      <td>25.0</td>\n",
              "      <td>5.045455</td>\n",
              "      <td>1.133333</td>\n",
              "      <td>845.0</td>\n",
              "      <td>2.560606</td>\n",
              "      <td>39.48</td>\n",
              "      <td>-121.09</td>\n",
              "    </tr>\n",
              "    <tr>\n",
              "      <th>20636</th>\n",
              "      <td>2.5568</td>\n",
              "      <td>18.0</td>\n",
              "      <td>6.114035</td>\n",
              "      <td>1.315789</td>\n",
              "      <td>356.0</td>\n",
              "      <td>3.122807</td>\n",
              "      <td>39.49</td>\n",
              "      <td>-121.21</td>\n",
              "    </tr>\n",
              "    <tr>\n",
              "      <th>20637</th>\n",
              "      <td>1.7000</td>\n",
              "      <td>17.0</td>\n",
              "      <td>5.205543</td>\n",
              "      <td>1.120092</td>\n",
              "      <td>1007.0</td>\n",
              "      <td>2.325635</td>\n",
              "      <td>39.43</td>\n",
              "      <td>-121.22</td>\n",
              "    </tr>\n",
              "    <tr>\n",
              "      <th>20638</th>\n",
              "      <td>1.8672</td>\n",
              "      <td>18.0</td>\n",
              "      <td>5.329513</td>\n",
              "      <td>1.171920</td>\n",
              "      <td>741.0</td>\n",
              "      <td>2.123209</td>\n",
              "      <td>39.43</td>\n",
              "      <td>-121.32</td>\n",
              "    </tr>\n",
              "    <tr>\n",
              "      <th>20639</th>\n",
              "      <td>2.3886</td>\n",
              "      <td>16.0</td>\n",
              "      <td>5.254717</td>\n",
              "      <td>1.162264</td>\n",
              "      <td>1387.0</td>\n",
              "      <td>2.616981</td>\n",
              "      <td>39.37</td>\n",
              "      <td>-121.24</td>\n",
              "    </tr>\n",
              "  </tbody>\n",
              "</table>\n",
              "<p>20640 rows × 8 columns</p>\n",
              "</div>"
            ],
            "text/plain": [
              "       MedInc  HouseAge  AveRooms  AveBedrms  Population  AveOccup  Latitude  \\\n",
              "0      8.3252      41.0  6.984127   1.023810       322.0  2.555556     37.88   \n",
              "1      8.3014      21.0  6.238137   0.971880      2401.0  2.109842     37.86   \n",
              "2      7.2574      52.0  8.288136   1.073446       496.0  2.802260     37.85   \n",
              "3      5.6431      52.0  5.817352   1.073059       558.0  2.547945     37.85   \n",
              "4      3.8462      52.0  6.281853   1.081081       565.0  2.181467     37.85   \n",
              "...       ...       ...       ...        ...         ...       ...       ...   \n",
              "20635  1.5603      25.0  5.045455   1.133333       845.0  2.560606     39.48   \n",
              "20636  2.5568      18.0  6.114035   1.315789       356.0  3.122807     39.49   \n",
              "20637  1.7000      17.0  5.205543   1.120092      1007.0  2.325635     39.43   \n",
              "20638  1.8672      18.0  5.329513   1.171920       741.0  2.123209     39.43   \n",
              "20639  2.3886      16.0  5.254717   1.162264      1387.0  2.616981     39.37   \n",
              "\n",
              "       Longitude  \n",
              "0        -122.23  \n",
              "1        -122.22  \n",
              "2        -122.24  \n",
              "3        -122.25  \n",
              "4        -122.25  \n",
              "...          ...  \n",
              "20635    -121.09  \n",
              "20636    -121.21  \n",
              "20637    -121.22  \n",
              "20638    -121.32  \n",
              "20639    -121.24  \n",
              "\n",
              "[20640 rows x 8 columns]"
            ]
          },
          "execution_count": 30,
          "metadata": {},
          "output_type": "execute_result"
        }
      ],
      "source": [
        "from sklearn.datasets import fetch_california_housing\n",
        "import pandas as pd\n",
        "import numpy as np\n",
        "\n",
        "\n",
        "data = fetch_california_housing()\n",
        "X = pd.DataFrame(data['data'], columns=data['feature_names'])\n",
        "y = data['target']\n",
        "\n",
        "X"
      ]
    },
    {
      "cell_type": "markdown",
      "metadata": {
        "id": "6mFZp4bBkHkV"
      },
      "source": [
        "### KNN из sklearn\n"
      ]
    },
    {
      "cell_type": "markdown",
      "metadata": {
        "id": "4eGkDJBHjr9T"
      },
      "source": [
        "#### 3.1. Разбейте данные на обучение и тест\n"
      ]
    },
    {
      "cell_type": "code",
      "execution_count": 31,
      "metadata": {
        "id": "0ccx6lMFjr9U"
      },
      "outputs": [
        {
          "data": {
            "text/plain": [
              "((14448, 8), (6192, 8))"
            ]
          },
          "execution_count": 31,
          "metadata": {},
          "output_type": "execute_result"
        }
      ],
      "source": [
        "from sklearn.model_selection import train_test_split\n",
        "\n",
        "X_train, X_test, y_train, y_test = train_test_split(\n",
        "    X, y, test_size=0.3, random_state=42)\n",
        "X_train.shape, X_test.shape"
      ]
    },
    {
      "cell_type": "markdown",
      "metadata": {
        "id": "8w9kTLEShikZ"
      },
      "source": [
        "Затем нормализуйте данные:\n"
      ]
    },
    {
      "cell_type": "code",
      "execution_count": 32,
      "metadata": {
        "id": "JcvWKRiAhiyI"
      },
      "outputs": [],
      "source": [
        "from sklearn.preprocessing import MinMaxScaler\n",
        "\n",
        "mms = MinMaxScaler()\n",
        "mms.fit(X_train)\n",
        "\n",
        "X_train = pd.DataFrame(mms.transform(\n",
        "    X_train[X_train.columns]), columns=X_train.columns)\n",
        "X_test = pd.DataFrame(mms.transform(\n",
        "    X_test[X_train.columns]), columns=X_train.columns)"
      ]
    },
    {
      "cell_type": "markdown",
      "metadata": {
        "id": "65db5Xsnjr9V"
      },
      "source": [
        "#### 3.2. Обучите модель KNN\n"
      ]
    },
    {
      "cell_type": "code",
      "execution_count": 34,
      "metadata": {
        "id": "OpYmpcKDjr9V"
      },
      "outputs": [
        {
          "data": {
            "text/html": [
              "<style>#sk-container-id-2 {color: black;background-color: white;}#sk-container-id-2 pre{padding: 0;}#sk-container-id-2 div.sk-toggleable {background-color: white;}#sk-container-id-2 label.sk-toggleable__label {cursor: pointer;display: block;width: 100%;margin-bottom: 0;padding: 0.3em;box-sizing: border-box;text-align: center;}#sk-container-id-2 label.sk-toggleable__label-arrow:before {content: \"▸\";float: left;margin-right: 0.25em;color: #696969;}#sk-container-id-2 label.sk-toggleable__label-arrow:hover:before {color: black;}#sk-container-id-2 div.sk-estimator:hover label.sk-toggleable__label-arrow:before {color: black;}#sk-container-id-2 div.sk-toggleable__content {max-height: 0;max-width: 0;overflow: hidden;text-align: left;background-color: #f0f8ff;}#sk-container-id-2 div.sk-toggleable__content pre {margin: 0.2em;color: black;border-radius: 0.25em;background-color: #f0f8ff;}#sk-container-id-2 input.sk-toggleable__control:checked~div.sk-toggleable__content {max-height: 200px;max-width: 100%;overflow: auto;}#sk-container-id-2 input.sk-toggleable__control:checked~label.sk-toggleable__label-arrow:before {content: \"▾\";}#sk-container-id-2 div.sk-estimator input.sk-toggleable__control:checked~label.sk-toggleable__label {background-color: #d4ebff;}#sk-container-id-2 div.sk-label input.sk-toggleable__control:checked~label.sk-toggleable__label {background-color: #d4ebff;}#sk-container-id-2 input.sk-hidden--visually {border: 0;clip: rect(1px 1px 1px 1px);clip: rect(1px, 1px, 1px, 1px);height: 1px;margin: -1px;overflow: hidden;padding: 0;position: absolute;width: 1px;}#sk-container-id-2 div.sk-estimator {font-family: monospace;background-color: #f0f8ff;border: 1px dotted black;border-radius: 0.25em;box-sizing: border-box;margin-bottom: 0.5em;}#sk-container-id-2 div.sk-estimator:hover {background-color: #d4ebff;}#sk-container-id-2 div.sk-parallel-item::after {content: \"\";width: 100%;border-bottom: 1px solid gray;flex-grow: 1;}#sk-container-id-2 div.sk-label:hover label.sk-toggleable__label {background-color: #d4ebff;}#sk-container-id-2 div.sk-serial::before {content: \"\";position: absolute;border-left: 1px solid gray;box-sizing: border-box;top: 0;bottom: 0;left: 50%;z-index: 0;}#sk-container-id-2 div.sk-serial {display: flex;flex-direction: column;align-items: center;background-color: white;padding-right: 0.2em;padding-left: 0.2em;position: relative;}#sk-container-id-2 div.sk-item {position: relative;z-index: 1;}#sk-container-id-2 div.sk-parallel {display: flex;align-items: stretch;justify-content: center;background-color: white;position: relative;}#sk-container-id-2 div.sk-item::before, #sk-container-id-2 div.sk-parallel-item::before {content: \"\";position: absolute;border-left: 1px solid gray;box-sizing: border-box;top: 0;bottom: 0;left: 50%;z-index: -1;}#sk-container-id-2 div.sk-parallel-item {display: flex;flex-direction: column;z-index: 1;position: relative;background-color: white;}#sk-container-id-2 div.sk-parallel-item:first-child::after {align-self: flex-end;width: 50%;}#sk-container-id-2 div.sk-parallel-item:last-child::after {align-self: flex-start;width: 50%;}#sk-container-id-2 div.sk-parallel-item:only-child::after {width: 0;}#sk-container-id-2 div.sk-dashed-wrapped {border: 1px dashed gray;margin: 0 0.4em 0.5em 0.4em;box-sizing: border-box;padding-bottom: 0.4em;background-color: white;}#sk-container-id-2 div.sk-label label {font-family: monospace;font-weight: bold;display: inline-block;line-height: 1.2em;}#sk-container-id-2 div.sk-label-container {text-align: center;}#sk-container-id-2 div.sk-container {/* jupyter's `normalize.less` sets `[hidden] { display: none; }` but bootstrap.min.css set `[hidden] { display: none !important; }` so we also need the `!important` here to be able to override the default hidden behavior on the sphinx rendered scikit-learn.org. See: https://github.com/scikit-learn/scikit-learn/issues/21755 */display: inline-block !important;position: relative;}#sk-container-id-2 div.sk-text-repr-fallback {display: none;}</style><div id=\"sk-container-id-2\" class=\"sk-top-container\"><div class=\"sk-text-repr-fallback\"><pre>KNeighborsRegressor()</pre><b>In a Jupyter environment, please rerun this cell to show the HTML representation or trust the notebook. <br />On GitHub, the HTML representation is unable to render, please try loading this page with nbviewer.org.</b></div><div class=\"sk-container\" hidden><div class=\"sk-item\"><div class=\"sk-estimator sk-toggleable\"><input class=\"sk-toggleable__control sk-hidden--visually\" id=\"sk-estimator-id-2\" type=\"checkbox\" checked><label for=\"sk-estimator-id-2\" class=\"sk-toggleable__label sk-toggleable__label-arrow\">KNeighborsRegressor</label><div class=\"sk-toggleable__content\"><pre>KNeighborsRegressor()</pre></div></div></div></div></div>"
            ],
            "text/plain": [
              "KNeighborsRegressor()"
            ]
          },
          "execution_count": 34,
          "metadata": {},
          "output_type": "execute_result"
        }
      ],
      "source": [
        "from sklearn.neighbors import KNeighborsRegressor\n",
        "\n",
        "n_neighbors = 5\n",
        "model = KNeighborsRegressor(n_neighbors=n_neighbors)\n",
        "model.fit(X_train, y_train)"
      ]
    },
    {
      "cell_type": "markdown",
      "metadata": {
        "id": "YVuSPxoXjr9W"
      },
      "source": [
        "#### 3.3. Проверьте качество работы модели\n"
      ]
    },
    {
      "cell_type": "code",
      "execution_count": 36,
      "metadata": {
        "id": "rewJRYerjr9W"
      },
      "outputs": [
        {
          "data": {
            "text/plain": [
              "0.6940895332946582"
            ]
          },
          "execution_count": 36,
          "metadata": {},
          "output_type": "execute_result"
        }
      ],
      "source": [
        "from sklearn.metrics import r2_score\n",
        "\n",
        "y_pred = model.predict(X_test)\n",
        "\n",
        "r_2 = r2_score(y_pred=y_pred, y_true=y_test)\n",
        "r_2"
      ]
    },
    {
      "cell_type": "markdown",
      "metadata": {
        "id": "mVh6SMdljr9W"
      },
      "source": [
        "#### 3.4. Поэкспериментируйте с количеством соседей\n",
        "\n",
        "1. Обучите модели с разным кол-вом соседей\n",
        "2. Посчитайте метрику на тестовой выборке\n",
        "3. Соберите данные в таблицу/график для наглядности\n",
        "4. Выберите самое оптимальное значение $k$\n"
      ]
    },
    {
      "cell_type": "code",
      "execution_count": 44,
      "metadata": {
        "id": "NCXSEy3mjr9W"
      },
      "outputs": [
        {
          "data": {
            "text/html": [
              "<div>\n",
              "<style scoped>\n",
              "    .dataframe tbody tr th:only-of-type {\n",
              "        vertical-align: middle;\n",
              "    }\n",
              "\n",
              "    .dataframe tbody tr th {\n",
              "        vertical-align: top;\n",
              "    }\n",
              "\n",
              "    .dataframe thead th {\n",
              "        text-align: right;\n",
              "    }\n",
              "</style>\n",
              "<table border=\"1\" class=\"dataframe\">\n",
              "  <thead>\n",
              "    <tr style=\"text-align: right;\">\n",
              "      <th></th>\n",
              "      <th>neighbours_count</th>\n",
              "      <th>metric</th>\n",
              "    </tr>\n",
              "  </thead>\n",
              "  <tbody>\n",
              "    <tr>\n",
              "      <th>0</th>\n",
              "      <td>0</td>\n",
              "      <td>0.543406</td>\n",
              "    </tr>\n",
              "    <tr>\n",
              "      <th>1</th>\n",
              "      <td>1</td>\n",
              "      <td>0.645866</td>\n",
              "    </tr>\n",
              "    <tr>\n",
              "      <th>2</th>\n",
              "      <td>2</td>\n",
              "      <td>0.673335</td>\n",
              "    </tr>\n",
              "    <tr>\n",
              "      <th>3</th>\n",
              "      <td>3</td>\n",
              "      <td>0.683751</td>\n",
              "    </tr>\n",
              "    <tr>\n",
              "      <th>4</th>\n",
              "      <td>4</td>\n",
              "      <td>0.694090</td>\n",
              "    </tr>\n",
              "    <tr>\n",
              "      <th>5</th>\n",
              "      <td>5</td>\n",
              "      <td>0.701883</td>\n",
              "    </tr>\n",
              "    <tr>\n",
              "      <th>6</th>\n",
              "      <td>6</td>\n",
              "      <td>0.702509</td>\n",
              "    </tr>\n",
              "    <tr>\n",
              "      <th>7</th>\n",
              "      <td>7</td>\n",
              "      <td>0.703539</td>\n",
              "    </tr>\n",
              "    <tr>\n",
              "      <th>8</th>\n",
              "      <td>8</td>\n",
              "      <td>0.702904</td>\n",
              "    </tr>\n",
              "    <tr>\n",
              "      <th>9</th>\n",
              "      <td>9</td>\n",
              "      <td>0.702269</td>\n",
              "    </tr>\n",
              "    <tr>\n",
              "      <th>10</th>\n",
              "      <td>10</td>\n",
              "      <td>0.702822</td>\n",
              "    </tr>\n",
              "    <tr>\n",
              "      <th>11</th>\n",
              "      <td>11</td>\n",
              "      <td>0.702021</td>\n",
              "    </tr>\n",
              "    <tr>\n",
              "      <th>12</th>\n",
              "      <td>12</td>\n",
              "      <td>0.700752</td>\n",
              "    </tr>\n",
              "    <tr>\n",
              "      <th>13</th>\n",
              "      <td>13</td>\n",
              "      <td>0.700362</td>\n",
              "    </tr>\n",
              "    <tr>\n",
              "      <th>14</th>\n",
              "      <td>14</td>\n",
              "      <td>0.698906</td>\n",
              "    </tr>\n",
              "    <tr>\n",
              "      <th>15</th>\n",
              "      <td>15</td>\n",
              "      <td>0.697540</td>\n",
              "    </tr>\n",
              "    <tr>\n",
              "      <th>16</th>\n",
              "      <td>16</td>\n",
              "      <td>0.696975</td>\n",
              "    </tr>\n",
              "    <tr>\n",
              "      <th>17</th>\n",
              "      <td>17</td>\n",
              "      <td>0.695751</td>\n",
              "    </tr>\n",
              "    <tr>\n",
              "      <th>18</th>\n",
              "      <td>18</td>\n",
              "      <td>0.695583</td>\n",
              "    </tr>\n",
              "    <tr>\n",
              "      <th>19</th>\n",
              "      <td>19</td>\n",
              "      <td>0.694682</td>\n",
              "    </tr>\n",
              "    <tr>\n",
              "      <th>20</th>\n",
              "      <td>20</td>\n",
              "      <td>0.693752</td>\n",
              "    </tr>\n",
              "    <tr>\n",
              "      <th>21</th>\n",
              "      <td>21</td>\n",
              "      <td>0.693333</td>\n",
              "    </tr>\n",
              "    <tr>\n",
              "      <th>22</th>\n",
              "      <td>22</td>\n",
              "      <td>0.692727</td>\n",
              "    </tr>\n",
              "    <tr>\n",
              "      <th>23</th>\n",
              "      <td>23</td>\n",
              "      <td>0.692249</td>\n",
              "    </tr>\n",
              "    <tr>\n",
              "      <th>24</th>\n",
              "      <td>24</td>\n",
              "      <td>0.691094</td>\n",
              "    </tr>\n",
              "    <tr>\n",
              "      <th>25</th>\n",
              "      <td>25</td>\n",
              "      <td>0.690773</td>\n",
              "    </tr>\n",
              "    <tr>\n",
              "      <th>26</th>\n",
              "      <td>26</td>\n",
              "      <td>0.689472</td>\n",
              "    </tr>\n",
              "    <tr>\n",
              "      <th>27</th>\n",
              "      <td>27</td>\n",
              "      <td>0.688300</td>\n",
              "    </tr>\n",
              "    <tr>\n",
              "      <th>28</th>\n",
              "      <td>28</td>\n",
              "      <td>0.687438</td>\n",
              "    </tr>\n",
              "    <tr>\n",
              "      <th>29</th>\n",
              "      <td>29</td>\n",
              "      <td>0.686860</td>\n",
              "    </tr>\n",
              "    <tr>\n",
              "      <th>30</th>\n",
              "      <td>30</td>\n",
              "      <td>0.685677</td>\n",
              "    </tr>\n",
              "    <tr>\n",
              "      <th>31</th>\n",
              "      <td>31</td>\n",
              "      <td>0.685517</td>\n",
              "    </tr>\n",
              "    <tr>\n",
              "      <th>32</th>\n",
              "      <td>32</td>\n",
              "      <td>0.684731</td>\n",
              "    </tr>\n",
              "    <tr>\n",
              "      <th>33</th>\n",
              "      <td>33</td>\n",
              "      <td>0.684122</td>\n",
              "    </tr>\n",
              "    <tr>\n",
              "      <th>34</th>\n",
              "      <td>34</td>\n",
              "      <td>0.683931</td>\n",
              "    </tr>\n",
              "    <tr>\n",
              "      <th>35</th>\n",
              "      <td>35</td>\n",
              "      <td>0.683017</td>\n",
              "    </tr>\n",
              "    <tr>\n",
              "      <th>36</th>\n",
              "      <td>36</td>\n",
              "      <td>0.682012</td>\n",
              "    </tr>\n",
              "    <tr>\n",
              "      <th>37</th>\n",
              "      <td>37</td>\n",
              "      <td>0.681685</td>\n",
              "    </tr>\n",
              "  </tbody>\n",
              "</table>\n",
              "</div>"
            ],
            "text/plain": [
              "    neighbours_count    metric\n",
              "0                  0  0.543406\n",
              "1                  1  0.645866\n",
              "2                  2  0.673335\n",
              "3                  3  0.683751\n",
              "4                  4  0.694090\n",
              "5                  5  0.701883\n",
              "6                  6  0.702509\n",
              "7                  7  0.703539\n",
              "8                  8  0.702904\n",
              "9                  9  0.702269\n",
              "10                10  0.702822\n",
              "11                11  0.702021\n",
              "12                12  0.700752\n",
              "13                13  0.700362\n",
              "14                14  0.698906\n",
              "15                15  0.697540\n",
              "16                16  0.696975\n",
              "17                17  0.695751\n",
              "18                18  0.695583\n",
              "19                19  0.694682\n",
              "20                20  0.693752\n",
              "21                21  0.693333\n",
              "22                22  0.692727\n",
              "23                23  0.692249\n",
              "24                24  0.691094\n",
              "25                25  0.690773\n",
              "26                26  0.689472\n",
              "27                27  0.688300\n",
              "28                28  0.687438\n",
              "29                29  0.686860\n",
              "30                30  0.685677\n",
              "31                31  0.685517\n",
              "32                32  0.684731\n",
              "33                33  0.684122\n",
              "34                34  0.683931\n",
              "35                35  0.683017\n",
              "36                36  0.682012\n",
              "37                37  0.681685"
            ]
          },
          "execution_count": 44,
          "metadata": {},
          "output_type": "execute_result"
        }
      ],
      "source": [
        "df = pd.DataFrame({'neighbours_count': pd.Series(dtype='int'),\n",
        "                   'metric': pd.Series(dtype='float')})\n",
        "\n",
        "for i in range(0, 38):\n",
        "    knn = KNeighborsRegressor(n_neighbors=i+1)\n",
        "    knn.fit(X_train, y_train)\n",
        "    y_pred = knn.predict(X_test)\n",
        "    r_2 = r2_score(y_pred=y_pred, y_true=y_test)\n",
        "    df.loc[i] = [i, r_2]\n",
        "\n",
        "df['neighbours_count'] = df['neighbours_count'].astype('int')\n",
        "df.head(50)"
      ]
    },
    {
      "cell_type": "markdown",
      "metadata": {
        "id": "Ue_XDtwIjr9Y"
      },
      "source": [
        "### 4. KNN рукописный\n"
      ]
    },
    {
      "cell_type": "markdown",
      "metadata": {
        "id": "dDRUfJYJjr9Y"
      },
      "source": [
        "#### 4.1. Возьмите два случайных тестовых объектов\n"
      ]
    },
    {
      "cell_type": "code",
      "execution_count": 45,
      "metadata": {
        "id": "zFODuk3wjr9Y"
      },
      "outputs": [
        {
          "data": {
            "text/html": [
              "<div>\n",
              "<style scoped>\n",
              "    .dataframe tbody tr th:only-of-type {\n",
              "        vertical-align: middle;\n",
              "    }\n",
              "\n",
              "    .dataframe tbody tr th {\n",
              "        vertical-align: top;\n",
              "    }\n",
              "\n",
              "    .dataframe thead th {\n",
              "        text-align: right;\n",
              "    }\n",
              "</style>\n",
              "<table border=\"1\" class=\"dataframe\">\n",
              "  <thead>\n",
              "    <tr style=\"text-align: right;\">\n",
              "      <th></th>\n",
              "      <th>MedInc</th>\n",
              "      <th>HouseAge</th>\n",
              "      <th>AveRooms</th>\n",
              "      <th>AveBedrms</th>\n",
              "      <th>Population</th>\n",
              "      <th>AveOccup</th>\n",
              "      <th>Latitude</th>\n",
              "      <th>Longitude</th>\n",
              "    </tr>\n",
              "  </thead>\n",
              "  <tbody>\n",
              "    <tr>\n",
              "      <th>4928</th>\n",
              "      <td>0.690632</td>\n",
              "      <td>0.431373</td>\n",
              "      <td>0.048181</td>\n",
              "      <td>0.025997</td>\n",
              "      <td>0.025757</td>\n",
              "      <td>0.001638</td>\n",
              "      <td>0.509574</td>\n",
              "      <td>0.226096</td>\n",
              "    </tr>\n",
              "    <tr>\n",
              "      <th>2990</th>\n",
              "      <td>0.081902</td>\n",
              "      <td>0.725490</td>\n",
              "      <td>0.116156</td>\n",
              "      <td>0.183671</td>\n",
              "      <td>0.002887</td>\n",
              "      <td>0.001083</td>\n",
              "      <td>0.174468</td>\n",
              "      <td>0.744024</td>\n",
              "    </tr>\n",
              "  </tbody>\n",
              "</table>\n",
              "</div>"
            ],
            "text/plain": [
              "        MedInc  HouseAge  AveRooms  AveBedrms  Population  AveOccup  Latitude  \\\n",
              "4928  0.690632  0.431373  0.048181   0.025997    0.025757  0.001638  0.509574   \n",
              "2990  0.081902  0.725490  0.116156   0.183671    0.002887  0.001083  0.174468   \n",
              "\n",
              "      Longitude  \n",
              "4928   0.226096  \n",
              "2990   0.744024  "
            ]
          },
          "execution_count": 45,
          "metadata": {},
          "output_type": "execute_result"
        }
      ],
      "source": [
        "import numpy as np\n",
        "\n",
        "random_objects = X_test.sample(n=2)\n",
        "\n",
        "random_objects"
      ]
    },
    {
      "cell_type": "markdown",
      "metadata": {
        "id": "Hj-Iv0xHjr9Y"
      },
      "source": [
        "#### 4.2. Посчитайте для каждого расстояния до всех объектов из обучения\n"
      ]
    },
    {
      "cell_type": "code",
      "execution_count": 49,
      "metadata": {
        "id": "NEYGWDl7jr9Y"
      },
      "outputs": [
        {
          "data": {
            "text/html": [
              "<div>\n",
              "<style scoped>\n",
              "    .dataframe tbody tr th:only-of-type {\n",
              "        vertical-align: middle;\n",
              "    }\n",
              "\n",
              "    .dataframe tbody tr th {\n",
              "        vertical-align: top;\n",
              "    }\n",
              "\n",
              "    .dataframe thead th {\n",
              "        text-align: right;\n",
              "    }\n",
              "</style>\n",
              "<table border=\"1\" class=\"dataframe\">\n",
              "  <thead>\n",
              "    <tr style=\"text-align: right;\">\n",
              "      <th></th>\n",
              "      <th>object_idx</th>\n",
              "      <th>train_idx</th>\n",
              "      <th>dst</th>\n",
              "    </tr>\n",
              "  </thead>\n",
              "  <tbody>\n",
              "    <tr>\n",
              "      <th>15998</th>\n",
              "      <td>2990</td>\n",
              "      <td>1549</td>\n",
              "      <td>0.164146</td>\n",
              "    </tr>\n",
              "    <tr>\n",
              "      <th>27635</th>\n",
              "      <td>2990</td>\n",
              "      <td>13186</td>\n",
              "      <td>0.165238</td>\n",
              "    </tr>\n",
              "    <tr>\n",
              "      <th>26450</th>\n",
              "      <td>2990</td>\n",
              "      <td>12001</td>\n",
              "      <td>0.175761</td>\n",
              "    </tr>\n",
              "    <tr>\n",
              "      <th>22998</th>\n",
              "      <td>2990</td>\n",
              "      <td>8549</td>\n",
              "      <td>0.178960</td>\n",
              "    </tr>\n",
              "    <tr>\n",
              "      <th>26752</th>\n",
              "      <td>2990</td>\n",
              "      <td>12303</td>\n",
              "      <td>0.180472</td>\n",
              "    </tr>\n",
              "    <tr>\n",
              "      <th>15569</th>\n",
              "      <td>2990</td>\n",
              "      <td>1120</td>\n",
              "      <td>0.180498</td>\n",
              "    </tr>\n",
              "    <tr>\n",
              "      <th>20187</th>\n",
              "      <td>2990</td>\n",
              "      <td>5738</td>\n",
              "      <td>0.180833</td>\n",
              "    </tr>\n",
              "    <tr>\n",
              "      <th>17442</th>\n",
              "      <td>2990</td>\n",
              "      <td>2993</td>\n",
              "      <td>0.184202</td>\n",
              "    </tr>\n",
              "    <tr>\n",
              "      <th>15652</th>\n",
              "      <td>2990</td>\n",
              "      <td>1203</td>\n",
              "      <td>0.184275</td>\n",
              "    </tr>\n",
              "    <tr>\n",
              "      <th>21579</th>\n",
              "      <td>2990</td>\n",
              "      <td>7130</td>\n",
              "      <td>0.184321</td>\n",
              "    </tr>\n",
              "  </tbody>\n",
              "</table>\n",
              "</div>"
            ],
            "text/plain": [
              "       object_idx  train_idx       dst\n",
              "15998        2990       1549  0.164146\n",
              "27635        2990      13186  0.165238\n",
              "26450        2990      12001  0.175761\n",
              "22998        2990       8549  0.178960\n",
              "26752        2990      12303  0.180472\n",
              "15569        2990       1120  0.180498\n",
              "20187        2990       5738  0.180833\n",
              "17442        2990       2993  0.184202\n",
              "15652        2990       1203  0.184275\n",
              "21579        2990       7130  0.184321"
            ]
          },
          "execution_count": 49,
          "metadata": {},
          "output_type": "execute_result"
        }
      ],
      "source": [
        "import numpy as np\n",
        "import pandas as pd\n",
        "\n",
        "distances = pd.DataFrame({\n",
        "    'object_idx': pd.Series(dtype='int8'),\n",
        "    'train_idx': pd.Series(dtype='int8'),\n",
        "    'dst': pd.Series(dtype='float')\n",
        "})\n",
        "\n",
        "for test_idx, test_row in random_objects.iterrows():\n",
        "    for i, train_dot in X_train.iterrows(): \n",
        "        distances.loc[len(distances)+1] = [test_idx, i, np.linalg.norm(test_row.values - train_dot.values, ord=2)]\n",
        "\n",
        "distances['object_idx'] = distances['object_idx'].astype('int')\n",
        "distances['train_idx'] = distances['train_idx'].astype('int')\n",
        "distances.sort_values(['object_idx', 'dst'], ascending=True).head(10)\n"
      ]
    },
    {
      "cell_type": "markdown",
      "metadata": {
        "id": "BROz3QgNjr9Y"
      },
      "source": [
        "#### 4.3. Выберите топ $k$ соседей для каждого объекта\n"
      ]
    },
    {
      "cell_type": "code",
      "execution_count": 50,
      "metadata": {
        "id": "fEA62NsQjr9Z"
      },
      "outputs": [
        {
          "name": "stdout",
          "output_type": "stream",
          "text": [
            "       object_idx  train_idx       dst\n",
            "1140         4928       1139  0.024316\n",
            "6177         4928       6176  0.028214\n",
            "4113         4928       4112  0.043659\n",
            "2231         4928       2230  0.046189\n",
            "4158         4928       4157  0.048668\n",
            "4659         4928       4658  0.058046\n",
            "2833         4928       2832  0.059883\n",
            "11189        4928      11188  0.071198\n",
            "13081        4928      13080  0.072115\n",
            "7147         4928       7146  0.077660\n",
            "       object_idx  train_idx       dst\n",
            "15998        2990       1549  0.164146\n",
            "27635        2990      13186  0.165238\n",
            "26450        2990      12001  0.175761\n",
            "22998        2990       8549  0.178960\n",
            "26752        2990      12303  0.180472\n",
            "15569        2990       1120  0.180498\n",
            "20187        2990       5738  0.180833\n",
            "17442        2990       2993  0.184202\n",
            "15652        2990       1203  0.184275\n",
            "21579        2990       7130  0.184321\n"
          ]
        }
      ],
      "source": [
        "for test_idx, test_row in random_objects.iterrows():\n",
        "    print(distances[distances['object_idx']==test_idx].sort_values(['dst']).head(10))"
      ]
    },
    {
      "cell_type": "markdown",
      "metadata": {
        "id": "DSzqjIACjr9Z"
      },
      "source": [
        "#### 4.4. Выведите финальное предсказание для двух объектов основываясь на соседях\n"
      ]
    },
    {
      "cell_type": "code",
      "execution_count": 51,
      "metadata": {
        "id": "lOXAr6Vhjr9Z"
      },
      "outputs": [],
      "source": [
        "nearest_neigbors_idxs = pd.Series(dtype='int')\n",
        "test_points_X = []\n",
        "test_points_Y = []\n",
        "for test_idx, test_row in random_objects.iterrows():\n",
        "    test_points_X.append(X_test.loc[test_idx].values[0])\n",
        "    test_points_Y.append(X_test.loc[test_idx].values[1])\n",
        "    nearest_neigbors_idxs = pd.concat(\n",
        "        [nearest_neigbors_idxs, distances[distances['object_idx'] == test_idx].sort_values(['dst']).head(3)['train_idx']])\n",
        "nearest_neigbors_idxs = nearest_neigbors_idxs.values.astype(dtype='int')"
      ]
    },
    {
      "cell_type": "code",
      "execution_count": 52,
      "metadata": {},
      "outputs": [
        {
          "data": {
            "text/plain": [
              "<matplotlib.legend.Legend at 0x213f0934d90>"
            ]
          },
          "execution_count": 52,
          "metadata": {},
          "output_type": "execute_result"
        },
        {
          "data": {
            "image/png": "[encoded data removed]",
            "text/plain": [
              "<Figure size 1000x800 with 1 Axes>"
            ]
          },
          "metadata": {},
          "output_type": "display_data"
        }
      ],
      "source": [
        "import seaborn as sns\n",
        "import matplotlib.pyplot as plt\n",
        "from matplotlib.colors import ListedColormap\n",
        "\n",
        "cmap_bold = [\"darkorange\", \"darkblue\"]\n",
        "\n",
        "\n",
        "\n",
        "plt.figure(figsize=(10, 8))\n",
        "sns.scatterplot(\n",
        "    x=X_train.iloc[:, 0],\n",
        "    y=X_train.iloc[:, 1],\n",
        "    hue=y_train,\n",
        ")\n",
        "\n",
        "plt.scatter(X_train.iloc[:,0].loc[nearest_neigbors_idxs], X_train.iloc[:,1].loc[nearest_neigbors_idxs],\n",
        "            c='g', alpha=0.3, marker='o', s=100, label='nearest neighbors')\n",
        "\n",
        "plt.scatter(test_points_X, test_points_Y, c='g',\n",
        "            marker='*', s=100, label='test dot')\n",
        "plt.legend()"
      ]
    },
    {
      "cell_type": "markdown",
      "metadata": {
        "id": "UaG14cI1jr9a"
      },
      "source": [
        "#### 4.5. Сравните с настоящими целевыми значениями этих двух объектов\n"
      ]
    },
    {
      "cell_type": "code",
      "execution_count": 53,
      "metadata": {
        "id": "iNKnVK1ojr9b"
      },
      "outputs": [
        {
          "name": "stdout",
          "output_type": "stream",
          "text": [
            "Real value: 5.00001 – Predicted value: 5.00001\n",
            "Real value: 2.25 – Predicted value: 0.478\n"
          ]
        }
      ],
      "source": [
        "import statistics\n",
        "\n",
        "for test_idx, test_row in random_objects.iterrows():\n",
        "    idx = X_test.index.to_list().index(test_idx)\n",
        "    real_value = y_test[idx]\n",
        "    prdicted_values = []\n",
        "    neigbors = distances[distances['object_idx'] == test_idx].sort_values(['dst']).head(3)['train_idx']\n",
        "    for train_idx in neigbors:\n",
        "        prdicted_values.append(y_train[X_train.index.to_list().index(train_idx)])\n",
        "    print('Real value:', real_value,'–', 'Predicted value:', statistics.mode(prdicted_values))\n",
        "    "
      ]
    },
    {
      "cell_type": "markdown",
      "metadata": {
        "id": "krKG5ruPjr9b"
      },
      "source": [
        "Предсказания отклоняются от истины, но не так сильно, они довольно близки.\n"
      ]
    },
    {
      "cell_type": "markdown",
      "metadata": {
        "id": "A0b-BfZEf1JQ"
      },
      "source": [
        "# Weighted KNN\n"
      ]
    },
    {
      "cell_type": "markdown",
      "metadata": {
        "id": "759rXeRFf1Ja"
      },
      "source": [
        "## KNN для классификации\n"
      ]
    },
    {
      "cell_type": "markdown",
      "metadata": {
        "id": "3LkrhFC8QvOq"
      },
      "source": [
        "### Получение данных\n",
        "\n",
        "Будем работать с набором данным `iris` из `sklearn`.\n"
      ]
    },
    {
      "cell_type": "code",
      "execution_count": null,
      "metadata": {
        "colab": {
          "base_uri": "https://localhost:8080/",
          "height": 204
        },
        "id": "pDEf_L-lQvPA",
        "outputId": "32e9f6b2-d9b6-4082-f251-6e20e7d88235"
      },
      "outputs": [
        {
          "data": {
            "text/html": [
              "\n",
              "  <div id=\"df-10ecc10a-0186-4474-9d1e-2a15a5cf6050\">\n",
              "    <div class=\"colab-df-container\">\n",
              "      <div>\n",
              "<style scoped>\n",
              "    .dataframe tbody tr th:only-of-type {\n",
              "        vertical-align: middle;\n",
              "    }\n",
              "\n",
              "    .dataframe tbody tr th {\n",
              "        vertical-align: top;\n",
              "    }\n",
              "\n",
              "    .dataframe thead th {\n",
              "        text-align: right;\n",
              "    }\n",
              "</style>\n",
              "<table border=\"1\" class=\"dataframe\">\n",
              "  <thead>\n",
              "    <tr style=\"text-align: right;\">\n",
              "      <th></th>\n",
              "      <th>sepal length (cm)</th>\n",
              "      <th>sepal width (cm)</th>\n",
              "      <th>petal length (cm)</th>\n",
              "      <th>petal width (cm)</th>\n",
              "    </tr>\n",
              "  </thead>\n",
              "  <tbody>\n",
              "    <tr>\n",
              "      <th>0</th>\n",
              "      <td>5.1</td>\n",
              "      <td>3.5</td>\n",
              "      <td>1.4</td>\n",
              "      <td>0.2</td>\n",
              "    </tr>\n",
              "    <tr>\n",
              "      <th>1</th>\n",
              "      <td>4.9</td>\n",
              "      <td>3.0</td>\n",
              "      <td>1.4</td>\n",
              "      <td>0.2</td>\n",
              "    </tr>\n",
              "    <tr>\n",
              "      <th>2</th>\n",
              "      <td>4.7</td>\n",
              "      <td>3.2</td>\n",
              "      <td>1.3</td>\n",
              "      <td>0.2</td>\n",
              "    </tr>\n",
              "    <tr>\n",
              "      <th>3</th>\n",
              "      <td>4.6</td>\n",
              "      <td>3.1</td>\n",
              "      <td>1.5</td>\n",
              "      <td>0.2</td>\n",
              "    </tr>\n",
              "    <tr>\n",
              "      <th>4</th>\n",
              "      <td>5.0</td>\n",
              "      <td>3.6</td>\n",
              "      <td>1.4</td>\n",
              "      <td>0.2</td>\n",
              "    </tr>\n",
              "  </tbody>\n",
              "</table>\n",
              "</div>\n",
              "      <button class=\"colab-df-convert\" onclick=\"convertToInteractive('df-10ecc10a-0186-4474-9d1e-2a15a5cf6050')\"\n",
              "              title=\"Convert this dataframe to an interactive table.\"\n",
              "              style=\"display:none;\">\n",
              "        \n",
              "  <svg xmlns=\"http://www.w3.org/2000/svg\" height=\"24px\"viewBox=\"0 0 24 24\"\n",
              "       width=\"24px\">\n",
              "    <path d=\"M0 0h24v24H0V0z\" fill=\"none\"/>\n",
              "    <path d=\"M18.56 5.44l.94 2.06.94-2.06 2.06-.94-2.06-.94-.94-2.06-.94 2.06-2.06.94zm-11 1L8.5 8.5l.94-2.06 2.06-.94-2.06-.94L8.5 2.5l-.94 2.06-2.06.94zm10 10l.94 2.06.94-2.06 2.06-.94-2.06-.94-.94-2.06-.94 2.06-2.06.94z\"/><path d=\"M17.41 7.96l-1.37-1.37c-.4-.4-.92-.59-1.43-.59-.52 0-1.04.2-1.43.59L10.3 9.45l-7.72 7.72c-.78.78-.78 2.05 0 2.83L4 21.41c.39.39.9.59 1.41.59.51 0 1.02-.2 1.41-.59l7.78-7.78 2.81-2.81c.8-.78.8-2.07 0-2.86zM5.41 20L4 18.59l7.72-7.72 1.47 1.35L5.41 20z\"/>\n",
              "  </svg>\n",
              "      </button>\n",
              "      \n",
              "  <style>\n",
              "    .colab-df-container {\n",
              "      display:flex;\n",
              "      flex-wrap:wrap;\n",
              "      gap: 12px;\n",
              "    }\n",
              "\n",
              "    .colab-df-convert {\n",
              "      background-color: #E8F0FE;\n",
              "      border: none;\n",
              "      border-radius: 50%;\n",
              "      cursor: pointer;\n",
              "      display: none;\n",
              "      fill: #1967D2;\n",
              "      height: 32px;\n",
              "      padding: 0 0 0 0;\n",
              "      width: 32px;\n",
              "    }\n",
              "\n",
              "    .colab-df-convert:hover {\n",
              "      background-color: #E2EBFA;\n",
              "      box-shadow: 0px 1px 2px rgba(60, 64, 67, 0.3), 0px 1px 3px 1px rgba(60, 64, 67, 0.15);\n",
              "      fill: #174EA6;\n",
              "    }\n",
              "\n",
              "    [theme=dark] .colab-df-convert {\n",
              "      background-color: #3B4455;\n",
              "      fill: #D2E3FC;\n",
              "    }\n",
              "\n",
              "    [theme=dark] .colab-df-convert:hover {\n",
              "      background-color: #434B5C;\n",
              "      box-shadow: 0px 1px 3px 1px rgba(0, 0, 0, 0.15);\n",
              "      filter: drop-shadow(0px 1px 2px rgba(0, 0, 0, 0.3));\n",
              "      fill: #FFFFFF;\n",
              "    }\n",
              "  </style>\n",
              "\n",
              "      <script>\n",
              "        const buttonEl =\n",
              "          document.querySelector('#df-10ecc10a-0186-4474-9d1e-2a15a5cf6050 button.colab-df-convert');\n",
              "        buttonEl.style.display =\n",
              "          google.colab.kernel.accessAllowed ? 'block' : 'none';\n",
              "\n",
              "        async function convertToInteractive(key) {\n",
              "          const element = document.querySelector('#df-10ecc10a-0186-4474-9d1e-2a15a5cf6050');\n",
              "          const dataTable =\n",
              "            await google.colab.kernel.invokeFunction('convertToInteractive',\n",
              "                                                     [key], {});\n",
              "          if (!dataTable) return;\n",
              "\n",
              "          const docLinkHtml = 'Like what you see? Visit the ' +\n",
              "            '<a target=\"_blank\" href=https://colab.research.google.com/notebooks/data_table.ipynb>data table notebook</a>'\n",
              "            + ' to learn more about interactive tables.';\n",
              "          element.innerHTML = '';\n",
              "          dataTable['output_type'] = 'display_data';\n",
              "          await google.colab.output.renderOutput(dataTable, element);\n",
              "          const docLink = document.createElement('div');\n",
              "          docLink.innerHTML = docLinkHtml;\n",
              "          element.appendChild(docLink);\n",
              "        }\n",
              "      </script>\n",
              "    </div>\n",
              "  </div>\n",
              "  "
            ],
            "text/plain": [
              "   sepal length (cm)  sepal width (cm)  petal length (cm)  petal width (cm)\n",
              "0                5.1               3.5                1.4               0.2\n",
              "1                4.9               3.0                1.4               0.2\n",
              "2                4.7               3.2                1.3               0.2\n",
              "3                4.6               3.1                1.5               0.2\n",
              "4                5.0               3.6                1.4               0.2"
            ]
          },
          "execution_count": 2,
          "metadata": {},
          "output_type": "execute_result"
        }
      ],
      "source": [
        "from sklearn.datasets import load_iris\n",
        "import pandas as pd\n",
        "\n",
        "\n",
        "data = load_iris()\n",
        "\n",
        "X = pd.DataFrame(data['data'], columns=data['feature_names'])\n",
        "y = data['target']\n",
        "\n",
        "X.head()"
      ]
    },
    {
      "cell_type": "code",
      "execution_count": null,
      "metadata": {
        "colab": {
          "base_uri": "https://localhost:8080/"
        },
        "id": "qGlJz8tWQvPC",
        "outputId": "036c62d5-ccfc-4652-dd5e-dfa0ca7dc878"
      },
      "outputs": [
        {
          "data": {
            "text/plain": [
              "array([0, 0, 0, 0, 0, 0, 0, 0, 0, 0, 0, 0, 0, 0, 0, 0, 0, 0, 0, 0, 0, 0,\n",
              "       0, 0, 0, 0, 0, 0, 0, 0, 0, 0, 0, 0, 0, 0, 0, 0, 0, 0, 0, 0, 0, 0,\n",
              "       0, 0, 0, 0, 0, 0, 1, 1, 1, 1, 1, 1, 1, 1, 1, 1, 1, 1, 1, 1, 1, 1,\n",
              "       1, 1, 1, 1, 1, 1, 1, 1, 1, 1, 1, 1, 1, 1, 1, 1, 1, 1, 1, 1, 1, 1,\n",
              "       1, 1, 1, 1, 1, 1, 1, 1, 1, 1, 1, 1, 2, 2, 2, 2, 2, 2, 2, 2, 2, 2,\n",
              "       2, 2, 2, 2, 2, 2, 2, 2, 2, 2, 2, 2, 2, 2, 2, 2, 2, 2, 2, 2, 2, 2,\n",
              "       2, 2, 2, 2, 2, 2, 2, 2, 2, 2, 2, 2, 2, 2, 2, 2, 2, 2])"
            ]
          },
          "execution_count": 3,
          "metadata": {},
          "output_type": "execute_result"
        }
      ],
      "source": [
        "y"
      ]
    },
    {
      "cell_type": "markdown",
      "metadata": {
        "id": "tWc_C7HtTRMy"
      },
      "source": [
        "### Выберите только 0 и 3 признак (sepal length (cm) и petal width (cm))\n"
      ]
    },
    {
      "cell_type": "code",
      "execution_count": null,
      "metadata": {
        "id": "CDaEKuTFTekk"
      },
      "outputs": [],
      "source": [
        "# Ваш код здесь"
      ]
    },
    {
      "cell_type": "markdown",
      "metadata": {
        "id": "o-LBaj49Tl39"
      },
      "source": [
        "### Визуализируйте ваши данные на графике\n"
      ]
    },
    {
      "cell_type": "code",
      "execution_count": null,
      "metadata": {
        "id": "FS8UCeHQQvPB"
      },
      "outputs": [],
      "source": [
        "# Ваш код здесь"
      ]
    },
    {
      "cell_type": "markdown",
      "metadata": {
        "id": "WDDwfNgEQvPD"
      },
      "source": [
        "### 1. KNN из sklearn\n"
      ]
    },
    {
      "cell_type": "markdown",
      "metadata": {
        "id": "X7uMluDjQvPD"
      },
      "source": [
        "#### 1.1. Разбейте данные на обучение и тест\n"
      ]
    },
    {
      "cell_type": "code",
      "execution_count": null,
      "metadata": {
        "id": "odYPDYX4QvPE"
      },
      "outputs": [],
      "source": [
        "# Ваш код здесь"
      ]
    },
    {
      "cell_type": "markdown",
      "metadata": {
        "id": "oOamu9drQvPF"
      },
      "source": [
        "#### 1.2. Обучите модель KNN на 50 соседях\n"
      ]
    },
    {
      "cell_type": "code",
      "execution_count": null,
      "metadata": {
        "id": "H0tZK5BZQvPF"
      },
      "outputs": [],
      "source": [
        "# Ваш код здесь"
      ]
    },
    {
      "cell_type": "markdown",
      "metadata": {
        "id": "G3854c2pQvPG"
      },
      "source": [
        "#### 1.3. Проверьте качество работы модели\n"
      ]
    },
    {
      "cell_type": "code",
      "execution_count": null,
      "metadata": {
        "id": "bIK3ynUoQvPH"
      },
      "outputs": [],
      "source": [
        "# Ваш код здесь"
      ]
    },
    {
      "cell_type": "markdown",
      "metadata": {
        "id": "Li5z1LmDVDCh"
      },
      "source": [
        "#### 1.4. Возьмите один случайный тестовый объект и посчитайте для него расстояния до всех объектов с обучения\n"
      ]
    },
    {
      "cell_type": "code",
      "execution_count": null,
      "metadata": {
        "id": "ckSy3H_RT4Cn"
      },
      "outputs": [],
      "source": [
        "# Ваш код здесь"
      ]
    },
    {
      "cell_type": "markdown",
      "metadata": {
        "id": "-2XPtP0vejac"
      },
      "source": [
        "#### 1.5. Выберите топ k соседей\n"
      ]
    },
    {
      "cell_type": "code",
      "execution_count": null,
      "metadata": {
        "id": "R6FNlJGbcnaj"
      },
      "outputs": [],
      "source": [
        "# Ваш код здесь"
      ]
    },
    {
      "cell_type": "markdown",
      "metadata": {
        "id": "plx5d0SLVgKU"
      },
      "source": [
        "#### 1.6. Выведите финальное предсказание для этого объекта\n"
      ]
    },
    {
      "cell_type": "code",
      "execution_count": null,
      "metadata": {
        "id": "elsAn-yCVpEg"
      },
      "outputs": [],
      "source": [
        "# Ваш код здесь"
      ]
    },
    {
      "cell_type": "markdown",
      "metadata": {
        "id": "5bXTswpqV5Oc"
      },
      "source": [
        "#### 1.7. Сравните с настоящим целевым значением и предсказанием модели из `sklearn`\n"
      ]
    },
    {
      "cell_type": "code",
      "execution_count": null,
      "metadata": {
        "id": "McAZQDbdV17r"
      },
      "outputs": [],
      "source": [
        "# Ваш код здесь"
      ]
    },
    {
      "cell_type": "code",
      "execution_count": null,
      "metadata": {
        "id": "h3t7bD_qXC-U"
      },
      "outputs": [],
      "source": [
        "# Ваш код здесь"
      ]
    },
    {
      "cell_type": "markdown",
      "metadata": {
        "id": "XkFgwz_aqjXR"
      },
      "source": [
        "#### 1.8 Визуализируйте точки с обучения и тестовую с отрисовкой ближайших соседей\n"
      ]
    },
    {
      "cell_type": "code",
      "execution_count": null,
      "metadata": {
        "id": "wMKHAoClqotH"
      },
      "outputs": [],
      "source": [
        "# Ваш код здесь"
      ]
    },
    {
      "cell_type": "markdown",
      "metadata": {
        "id": "z7KzT0RQkEfK"
      },
      "source": [
        "### 2. Weighted KNN\n"
      ]
    },
    {
      "cell_type": "markdown",
      "metadata": {
        "id": "gWkLGEzgkNLn"
      },
      "source": [
        "#### 2.1. Обучите модель \"взвешенный KNN\" по дистанции\n"
      ]
    },
    {
      "cell_type": "code",
      "execution_count": null,
      "metadata": {
        "id": "SybxgUCikNLo"
      },
      "outputs": [],
      "source": [
        "# Ваш код здесь"
      ]
    },
    {
      "cell_type": "markdown",
      "metadata": {
        "id": "OIlY-7q6kNLq"
      },
      "source": [
        "#### 2.2. Проверьте качество работы модели\n"
      ]
    },
    {
      "cell_type": "code",
      "execution_count": null,
      "metadata": {
        "id": "bXpnbMnbkNLq"
      },
      "outputs": [],
      "source": [
        "# Ваш код здесь"
      ]
    },
    {
      "cell_type": "markdown",
      "metadata": {
        "id": "Qxrc8QbOkNLr"
      },
      "source": [
        "#### 2.3. Возьмите тот же случайный тестовый объект и посчитайте для него расстояния до всех объектов с обучения\n"
      ]
    },
    {
      "cell_type": "code",
      "execution_count": null,
      "metadata": {
        "id": "MnebRI_hkNLr"
      },
      "outputs": [],
      "source": [
        "# Ваш код здесь"
      ]
    },
    {
      "cell_type": "markdown",
      "metadata": {
        "id": "1VMqLecfkNLs"
      },
      "source": [
        "#### 2.4. Выберите топ k соседей\n"
      ]
    },
    {
      "cell_type": "code",
      "execution_count": null,
      "metadata": {
        "id": "fikLuvbEkNLt"
      },
      "outputs": [],
      "source": [
        "# Ваш код здесь"
      ]
    },
    {
      "cell_type": "markdown",
      "metadata": {
        "id": "E9hY32_HktGD"
      },
      "source": [
        "#### 2.5. Рассчитайте вес для каждого соседа\n"
      ]
    },
    {
      "cell_type": "code",
      "execution_count": null,
      "metadata": {
        "id": "tc3PBhGMkwuT"
      },
      "outputs": [],
      "source": [
        "# Ваш код здесь"
      ]
    },
    {
      "cell_type": "markdown",
      "metadata": {
        "id": "bpF1vbA4kNLt"
      },
      "source": [
        "#### 2.6. Выведите финальное предсказание для этого объекта\n"
      ]
    },
    {
      "cell_type": "code",
      "execution_count": null,
      "metadata": {
        "id": "18KOfvsgkNLu"
      },
      "outputs": [],
      "source": [
        "# Ваш код здесь"
      ]
    },
    {
      "cell_type": "markdown",
      "metadata": {
        "id": "HKHot43okNLu"
      },
      "source": [
        "#### 2.7. Сравните с настоящим целевым значением и предсказанием модели из `sklearn`\n"
      ]
    },
    {
      "cell_type": "code",
      "execution_count": null,
      "metadata": {
        "id": "5OOqYNMfkNLu"
      },
      "outputs": [],
      "source": [
        "# Ваш код здесь"
      ]
    },
    {
      "cell_type": "code",
      "execution_count": null,
      "metadata": {
        "id": "GpLL5y7mkNLv"
      },
      "outputs": [],
      "source": [
        "# Ваш код здесь"
      ]
    },
    {
      "cell_type": "markdown",
      "metadata": {
        "id": "Nfp62hl-rXb-"
      },
      "source": [
        "#### 2.8. Визуализируйте точки с обучения и тестовую с отрисовкой ближайших соседей по удаленности\n"
      ]
    },
    {
      "cell_type": "code",
      "execution_count": null,
      "metadata": {
        "id": "wvzoLImbraHp"
      },
      "outputs": [],
      "source": [
        "# Ваш код здесь"
      ]
    },
    {
      "cell_type": "markdown",
      "metadata": {
        "id": "2KH6NOGT-Wry"
      },
      "source": [
        "## 3. Еще одна задача классификации\n"
      ]
    },
    {
      "cell_type": "markdown",
      "metadata": {
        "id": "Hp6OV_eEf1Jf"
      },
      "source": [
        "### Получение данных\n",
        "\n",
        "Будем работать с набором данным `fetch_olivetti_faces` из `sklearn`.\n"
      ]
    },
    {
      "cell_type": "code",
      "execution_count": null,
      "metadata": {
        "colab": {
          "base_uri": "https://localhost:8080/",
          "height": 315
        },
        "id": "H49ibz-cf1Jf",
        "outputId": "4dbd37c8-aa01-4d8e-8c50-8fe4fa61fa8a"
      },
      "outputs": [
        {
          "name": "stdout",
          "output_type": "stream",
          "text": [
            "downloading Olivetti faces from https://ndownloader.figshare.com/files/5976027 to /root/scikit_learn_data\n"
          ]
        },
        {
          "data": {
            "text/html": [
              "\n",
              "  <div id=\"df-aa3de9f0-3753-4da5-9301-eeb7c2c9e673\">\n",
              "    <div class=\"colab-df-container\">\n",
              "      <div>\n",
              "<style scoped>\n",
              "    .dataframe tbody tr th:only-of-type {\n",
              "        vertical-align: middle;\n",
              "    }\n",
              "\n",
              "    .dataframe tbody tr th {\n",
              "        vertical-align: top;\n",
              "    }\n",
              "\n",
              "    .dataframe thead th {\n",
              "        text-align: right;\n",
              "    }\n",
              "</style>\n",
              "<table border=\"1\" class=\"dataframe\">\n",
              "  <thead>\n",
              "    <tr style=\"text-align: right;\">\n",
              "      <th></th>\n",
              "      <th>0</th>\n",
              "      <th>1</th>\n",
              "      <th>2</th>\n",
              "      <th>3</th>\n",
              "      <th>4</th>\n",
              "      <th>5</th>\n",
              "      <th>6</th>\n",
              "      <th>7</th>\n",
              "      <th>8</th>\n",
              "      <th>9</th>\n",
              "      <th>...</th>\n",
              "      <th>4086</th>\n",
              "      <th>4087</th>\n",
              "      <th>4088</th>\n",
              "      <th>4089</th>\n",
              "      <th>4090</th>\n",
              "      <th>4091</th>\n",
              "      <th>4092</th>\n",
              "      <th>4093</th>\n",
              "      <th>4094</th>\n",
              "      <th>4095</th>\n",
              "    </tr>\n",
              "  </thead>\n",
              "  <tbody>\n",
              "    <tr>\n",
              "      <th>0</th>\n",
              "      <td>0.723140</td>\n",
              "      <td>0.710744</td>\n",
              "      <td>0.714876</td>\n",
              "      <td>0.731405</td>\n",
              "      <td>0.735537</td>\n",
              "      <td>0.752066</td>\n",
              "      <td>0.772727</td>\n",
              "      <td>0.793388</td>\n",
              "      <td>0.814050</td>\n",
              "      <td>0.834711</td>\n",
              "      <td>...</td>\n",
              "      <td>0.793388</td>\n",
              "      <td>0.904959</td>\n",
              "      <td>0.549587</td>\n",
              "      <td>0.409091</td>\n",
              "      <td>0.491736</td>\n",
              "      <td>0.487603</td>\n",
              "      <td>0.471074</td>\n",
              "      <td>0.483471</td>\n",
              "      <td>0.475207</td>\n",
              "      <td>0.475207</td>\n",
              "    </tr>\n",
              "    <tr>\n",
              "      <th>1</th>\n",
              "      <td>0.289256</td>\n",
              "      <td>0.157025</td>\n",
              "      <td>0.148760</td>\n",
              "      <td>0.190083</td>\n",
              "      <td>0.169421</td>\n",
              "      <td>0.194215</td>\n",
              "      <td>0.404959</td>\n",
              "      <td>0.607438</td>\n",
              "      <td>0.669421</td>\n",
              "      <td>0.677686</td>\n",
              "      <td>...</td>\n",
              "      <td>0.438017</td>\n",
              "      <td>0.400826</td>\n",
              "      <td>0.421488</td>\n",
              "      <td>0.429752</td>\n",
              "      <td>0.433884</td>\n",
              "      <td>0.425620</td>\n",
              "      <td>0.438017</td>\n",
              "      <td>0.438017</td>\n",
              "      <td>0.210744</td>\n",
              "      <td>0.206612</td>\n",
              "    </tr>\n",
              "    <tr>\n",
              "      <th>2</th>\n",
              "      <td>0.586777</td>\n",
              "      <td>0.595041</td>\n",
              "      <td>0.681818</td>\n",
              "      <td>0.694215</td>\n",
              "      <td>0.714876</td>\n",
              "      <td>0.698347</td>\n",
              "      <td>0.714876</td>\n",
              "      <td>0.727273</td>\n",
              "      <td>0.743802</td>\n",
              "      <td>0.739669</td>\n",
              "      <td>...</td>\n",
              "      <td>0.495868</td>\n",
              "      <td>0.380165</td>\n",
              "      <td>0.400826</td>\n",
              "      <td>0.330579</td>\n",
              "      <td>0.148760</td>\n",
              "      <td>0.119835</td>\n",
              "      <td>0.123967</td>\n",
              "      <td>0.115702</td>\n",
              "      <td>0.119835</td>\n",
              "      <td>0.107438</td>\n",
              "    </tr>\n",
              "    <tr>\n",
              "      <th>3</th>\n",
              "      <td>0.235537</td>\n",
              "      <td>0.351240</td>\n",
              "      <td>0.479339</td>\n",
              "      <td>0.545455</td>\n",
              "      <td>0.566116</td>\n",
              "      <td>0.566116</td>\n",
              "      <td>0.595041</td>\n",
              "      <td>0.607438</td>\n",
              "      <td>0.619835</td>\n",
              "      <td>0.623967</td>\n",
              "      <td>...</td>\n",
              "      <td>0.169421</td>\n",
              "      <td>0.198347</td>\n",
              "      <td>0.202479</td>\n",
              "      <td>0.214876</td>\n",
              "      <td>0.202479</td>\n",
              "      <td>0.214876</td>\n",
              "      <td>0.214876</td>\n",
              "      <td>0.214876</td>\n",
              "      <td>0.210744</td>\n",
              "      <td>0.206612</td>\n",
              "    </tr>\n",
              "    <tr>\n",
              "      <th>4</th>\n",
              "      <td>0.318182</td>\n",
              "      <td>0.400826</td>\n",
              "      <td>0.491736</td>\n",
              "      <td>0.528926</td>\n",
              "      <td>0.586777</td>\n",
              "      <td>0.657025</td>\n",
              "      <td>0.681818</td>\n",
              "      <td>0.685950</td>\n",
              "      <td>0.702479</td>\n",
              "      <td>0.698347</td>\n",
              "      <td>...</td>\n",
              "      <td>0.074380</td>\n",
              "      <td>0.132231</td>\n",
              "      <td>0.181818</td>\n",
              "      <td>0.136364</td>\n",
              "      <td>0.128099</td>\n",
              "      <td>0.148760</td>\n",
              "      <td>0.144628</td>\n",
              "      <td>0.140496</td>\n",
              "      <td>0.148760</td>\n",
              "      <td>0.152893</td>\n",
              "    </tr>\n",
              "  </tbody>\n",
              "</table>\n",
              "<p>5 rows × 4096 columns</p>\n",
              "</div>\n",
              "      <button class=\"colab-df-convert\" onclick=\"convertToInteractive('df-aa3de9f0-3753-4da5-9301-eeb7c2c9e673')\"\n",
              "              title=\"Convert this dataframe to an interactive table.\"\n",
              "              style=\"display:none;\">\n",
              "        \n",
              "  <svg xmlns=\"http://www.w3.org/2000/svg\" height=\"24px\"viewBox=\"0 0 24 24\"\n",
              "       width=\"24px\">\n",
              "    <path d=\"M0 0h24v24H0V0z\" fill=\"none\"/>\n",
              "    <path d=\"M18.56 5.44l.94 2.06.94-2.06 2.06-.94-2.06-.94-.94-2.06-.94 2.06-2.06.94zm-11 1L8.5 8.5l.94-2.06 2.06-.94-2.06-.94L8.5 2.5l-.94 2.06-2.06.94zm10 10l.94 2.06.94-2.06 2.06-.94-2.06-.94-.94-2.06-.94 2.06-2.06.94z\"/><path d=\"M17.41 7.96l-1.37-1.37c-.4-.4-.92-.59-1.43-.59-.52 0-1.04.2-1.43.59L10.3 9.45l-7.72 7.72c-.78.78-.78 2.05 0 2.83L4 21.41c.39.39.9.59 1.41.59.51 0 1.02-.2 1.41-.59l7.78-7.78 2.81-2.81c.8-.78.8-2.07 0-2.86zM5.41 20L4 18.59l7.72-7.72 1.47 1.35L5.41 20z\"/>\n",
              "  </svg>\n",
              "      </button>\n",
              "      \n",
              "  <style>\n",
              "    .colab-df-container {\n",
              "      display:flex;\n",
              "      flex-wrap:wrap;\n",
              "      gap: 12px;\n",
              "    }\n",
              "\n",
              "    .colab-df-convert {\n",
              "      background-color: #E8F0FE;\n",
              "      border: none;\n",
              "      border-radius: 50%;\n",
              "      cursor: pointer;\n",
              "      display: none;\n",
              "      fill: #1967D2;\n",
              "      height: 32px;\n",
              "      padding: 0 0 0 0;\n",
              "      width: 32px;\n",
              "    }\n",
              "\n",
              "    .colab-df-convert:hover {\n",
              "      background-color: #E2EBFA;\n",
              "      box-shadow: 0px 1px 2px rgba(60, 64, 67, 0.3), 0px 1px 3px 1px rgba(60, 64, 67, 0.15);\n",
              "      fill: #174EA6;\n",
              "    }\n",
              "\n",
              "    [theme=dark] .colab-df-convert {\n",
              "      background-color: #3B4455;\n",
              "      fill: #D2E3FC;\n",
              "    }\n",
              "\n",
              "    [theme=dark] .colab-df-convert:hover {\n",
              "      background-color: #434B5C;\n",
              "      box-shadow: 0px 1px 3px 1px rgba(0, 0, 0, 0.15);\n",
              "      filter: drop-shadow(0px 1px 2px rgba(0, 0, 0, 0.3));\n",
              "      fill: #FFFFFF;\n",
              "    }\n",
              "  </style>\n",
              "\n",
              "      <script>\n",
              "        const buttonEl =\n",
              "          document.querySelector('#df-aa3de9f0-3753-4da5-9301-eeb7c2c9e673 button.colab-df-convert');\n",
              "        buttonEl.style.display =\n",
              "          google.colab.kernel.accessAllowed ? 'block' : 'none';\n",
              "\n",
              "        async function convertToInteractive(key) {\n",
              "          const element = document.querySelector('#df-aa3de9f0-3753-4da5-9301-eeb7c2c9e673');\n",
              "          const dataTable =\n",
              "            await google.colab.kernel.invokeFunction('convertToInteractive',\n",
              "                                                     [key], {});\n",
              "          if (!dataTable) return;\n",
              "\n",
              "          const docLinkHtml = 'Like what you see? Visit the ' +\n",
              "            '<a target=\"_blank\" href=https://colab.research.google.com/notebooks/data_table.ipynb>data table notebook</a>'\n",
              "            + ' to learn more about interactive tables.';\n",
              "          element.innerHTML = '';\n",
              "          dataTable['output_type'] = 'display_data';\n",
              "          await google.colab.output.renderOutput(dataTable, element);\n",
              "          const docLink = document.createElement('div');\n",
              "          docLink.innerHTML = docLinkHtml;\n",
              "          element.appendChild(docLink);\n",
              "        }\n",
              "      </script>\n",
              "    </div>\n",
              "  </div>\n",
              "  "
            ],
            "text/plain": [
              "       0         1         2         3         4         5         6     \\\n",
              "0  0.723140  0.710744  0.714876  0.731405  0.735537  0.752066  0.772727   \n",
              "1  0.289256  0.157025  0.148760  0.190083  0.169421  0.194215  0.404959   \n",
              "2  0.586777  0.595041  0.681818  0.694215  0.714876  0.698347  0.714876   \n",
              "3  0.235537  0.351240  0.479339  0.545455  0.566116  0.566116  0.595041   \n",
              "4  0.318182  0.400826  0.491736  0.528926  0.586777  0.657025  0.681818   \n",
              "\n",
              "       7         8         9     ...      4086      4087      4088      4089  \\\n",
              "0  0.793388  0.814050  0.834711  ...  0.793388  0.904959  0.549587  0.409091   \n",
              "1  0.607438  0.669421  0.677686  ...  0.438017  0.400826  0.421488  0.429752   \n",
              "2  0.727273  0.743802  0.739669  ...  0.495868  0.380165  0.400826  0.330579   \n",
              "3  0.607438  0.619835  0.623967  ...  0.169421  0.198347  0.202479  0.214876   \n",
              "4  0.685950  0.702479  0.698347  ...  0.074380  0.132231  0.181818  0.136364   \n",
              "\n",
              "       4090      4091      4092      4093      4094      4095  \n",
              "0  0.491736  0.487603  0.471074  0.483471  0.475207  0.475207  \n",
              "1  0.433884  0.425620  0.438017  0.438017  0.210744  0.206612  \n",
              "2  0.148760  0.119835  0.123967  0.115702  0.119835  0.107438  \n",
              "3  0.202479  0.214876  0.214876  0.214876  0.210744  0.206612  \n",
              "4  0.128099  0.148760  0.144628  0.140496  0.148760  0.152893  \n",
              "\n",
              "[5 rows x 4096 columns]"
            ]
          },
          "execution_count": 25,
          "metadata": {},
          "output_type": "execute_result"
        }
      ],
      "source": [
        "from sklearn.datasets import fetch_olivetti_faces\n",
        "import pandas as pd\n",
        "\n",
        "\n",
        "data = fetch_olivetti_faces(shuffle=True, random_state=9)\n",
        "\n",
        "X = pd.DataFrame(data['data'])\n",
        "y = data['target']\n",
        "\n",
        "X.head()"
      ]
    },
    {
      "cell_type": "code",
      "execution_count": null,
      "metadata": {
        "colab": {
          "base_uri": "https://localhost:8080/",
          "height": 191
        },
        "id": "TmLkcspiOLyN",
        "outputId": "f16a0069-86f8-4857-abf1-f2ead334aea5"
      },
      "outputs": [
        {
          "data": {
            "image/png": "[encoded data removed]",
            "text/plain": [
              "<Figure size 1080x576 with 5 Axes>"
            ]
          },
          "metadata": {
            "needs_background": "light"
          },
          "output_type": "display_data"
        }
      ],
      "source": [
        "import matplotlib.pyplot as plt\n",
        "\n",
        "fig, ax = plt.subplots(1, 5, figsize=(15, 8))\n",
        "\n",
        "for i in range(0, 5):\n",
        "    ax[i].imshow(X.iloc[i].values.reshape((64, 64)), cmap='gray')\n",
        "    ax[i].axis('off')\n",
        "    ax[i].set_title(f'class {y[i]}')\n",
        "\n",
        "plt.show()"
      ]
    },
    {
      "cell_type": "code",
      "execution_count": null,
      "metadata": {
        "colab": {
          "base_uri": "https://localhost:8080/"
        },
        "id": "eh4rlOXLNx9J",
        "outputId": "82c6f3ce-612a-4a06-fb92-30d96b826b9d"
      },
      "outputs": [
        {
          "data": {
            "text/plain": [
              "array([ 5,  3,  1, 16,  0,  1, 12,  9, 26, 37, 20,  5, 10, 27, 10, 34, 13,\n",
              "       26, 17, 31,  9,  7, 31, 37, 31, 35, 18, 29, 29,  4, 21, 20, 23,  7,\n",
              "        9, 18, 22,  2,  1, 39, 36,  8, 34, 32,  3, 20,  3,  9, 37, 32, 34,\n",
              "       15,  9, 16, 36, 16, 13,  7, 29,  6, 13,  4, 16,  0,  8,  1, 25,  3,\n",
              "       18, 29,  8, 35,  2, 25, 21, 31, 35, 23, 30, 28,  4, 10, 11, 27, 29,\n",
              "       39,  5, 12, 29, 26, 15,  2, 39,  6, 30, 37, 25, 32, 35, 24, 15, 24,\n",
              "        2, 19, 22,  0, 38,  5, 22, 28,  6, 38,  6,  3, 33, 12, 36,  8, 27,\n",
              "       19, 25, 36, 10, 37,  9, 33, 10, 28, 32, 34, 17, 23, 19, 24, 27,  3,\n",
              "       39, 30,  3,  7,  3, 30, 12, 21, 17, 14, 35, 21, 19,  5, 32, 16, 19,\n",
              "        8, 33, 14, 17, 15, 22, 38, 15, 18,  7, 14, 28, 39, 23, 36, 28, 10,\n",
              "       39, 36, 37, 10, 34, 25, 18, 13, 19, 33, 33, 13, 26,  9, 13, 34, 24,\n",
              "        0, 30, 23,  2, 22,  9, 11,  7, 35, 19, 26, 32, 11,  7,  7,  0,  4,\n",
              "        0,  2,  0, 26, 21, 14,  4, 32,  1, 23, 16,  0,  7, 14, 16, 15, 39,\n",
              "       17, 33, 30, 37, 17, 27,  7, 18, 31, 17, 25,  5,  9, 16, 20,  8,  9,\n",
              "       15,  8, 19, 15, 15, 13, 14, 36, 11, 27, 25,  1,  8,  3, 31, 21, 35,\n",
              "        2, 38, 38, 10, 19, 39, 28,  2,  1, 14, 28, 29,  6, 30, 38, 26,  1,\n",
              "       27, 12, 32, 13, 28, 20,  8, 30, 11, 37,  4, 28, 33, 31, 31, 22, 35,\n",
              "       11,  3, 17,  0, 13, 38, 22, 34, 19, 37, 28, 30, 24, 26, 37,  4, 20,\n",
              "       10,  6, 29, 39, 33, 25, 21, 32, 38, 16,  8,  6, 21, 15, 20,  1, 11,\n",
              "       36, 33, 35, 34, 22, 20, 17, 30, 17, 16, 14,  6, 23,  4, 24, 11, 24,\n",
              "       36, 10, 21, 29,  0, 32,  4,  2, 26, 23, 14, 33, 12, 18,  5, 35, 24,\n",
              "       26, 39, 27,  6, 18, 38, 20,  5, 14, 36,  4, 31, 20, 13, 11, 27, 22,\n",
              "       12, 18, 21, 27,  1, 12, 23, 31, 18, 23, 22, 34, 11, 24, 24, 25, 29,\n",
              "        5,  2,  6, 12, 25,  5, 12, 34, 38])"
            ]
          },
          "execution_count": 27,
          "metadata": {},
          "output_type": "execute_result"
        }
      ],
      "source": [
        "y"
      ]
    },
    {
      "cell_type": "markdown",
      "metadata": {
        "id": "jMZfRYGlf1Jg"
      },
      "source": [
        "### 3.1. KNN из sklearn\n"
      ]
    },
    {
      "cell_type": "markdown",
      "metadata": {
        "id": "8ngsbtVkf1Jg"
      },
      "source": [
        "#### 3.1.1. Разбейте данные на обучение и тест\n"
      ]
    },
    {
      "cell_type": "code",
      "execution_count": null,
      "metadata": {
        "id": "diZ6KLRgf1Jg"
      },
      "outputs": [],
      "source": [
        "# Ваш код здесь"
      ]
    },
    {
      "cell_type": "markdown",
      "metadata": {
        "id": "e0T67UVCf1Jg"
      },
      "source": [
        "#### 3.1.2. Обучите модель KNN на 50 соседях\n"
      ]
    },
    {
      "cell_type": "code",
      "execution_count": null,
      "metadata": {
        "id": "oxu8ZAdsf1Jg"
      },
      "outputs": [],
      "source": [
        "# Ваш код здесь"
      ]
    },
    {
      "cell_type": "markdown",
      "metadata": {
        "id": "Lm44kJe3f1Jg"
      },
      "source": [
        "#### 3.1.3. Проверьте качество работы модели\n"
      ]
    },
    {
      "cell_type": "code",
      "execution_count": null,
      "metadata": {
        "id": "rUlCrVcnf1Jg"
      },
      "outputs": [],
      "source": [
        "# Ваш код здесь"
      ]
    },
    {
      "cell_type": "markdown",
      "metadata": {
        "id": "ytr-TzhG3aXt"
      },
      "source": [
        "### 3.2. Weighted KNN\n"
      ]
    },
    {
      "cell_type": "markdown",
      "metadata": {
        "id": "eAZmvdey3aYC"
      },
      "source": [
        "#### 3.2.1. Обучите модель взвешенный KNN по дистанции\n"
      ]
    },
    {
      "cell_type": "code",
      "execution_count": null,
      "metadata": {
        "id": "fBbA7XvF3aYD"
      },
      "outputs": [],
      "source": [
        "# Ваш код здесь"
      ]
    },
    {
      "cell_type": "markdown",
      "metadata": {
        "id": "ffnmmv8f3aYE"
      },
      "source": [
        "#### 3.2.2. Проверьте качество работы модели\n"
      ]
    },
    {
      "cell_type": "code",
      "execution_count": null,
      "metadata": {
        "id": "KHKjMiWH3aYE"
      },
      "outputs": [],
      "source": [
        "# Ваш код здесь"
      ]
    },
    {
      "cell_type": "markdown",
      "metadata": {
        "id": "SK5cF8Y33exW"
      },
      "source": [
        "### 3.3. Custom Weighted KNN\n"
      ]
    },
    {
      "cell_type": "markdown",
      "metadata": {
        "id": "w1gnZTn69N4p"
      },
      "source": [
        "#### 3.3.1. Напишите свою функцию подсчета весов по дистанции\n",
        "\n",
        "(Можете выбрать любой подход)\n"
      ]
    },
    {
      "cell_type": "code",
      "execution_count": null,
      "metadata": {
        "id": "68X-M_A79XPZ"
      },
      "outputs": [],
      "source": [
        "# Ваш код здесь"
      ]
    },
    {
      "cell_type": "markdown",
      "metadata": {
        "id": "nl1m8HE09jTV"
      },
      "source": [
        "#### 3.3.2. Обучите модель взвешенный KNN по написанной функции выше\n"
      ]
    },
    {
      "cell_type": "code",
      "execution_count": null,
      "metadata": {
        "id": "3eNH9DIW9jTX"
      },
      "outputs": [],
      "source": [
        "# Ваш код здесь"
      ]
    },
    {
      "cell_type": "markdown",
      "metadata": {
        "id": "Zg8Scc3G9jTZ"
      },
      "source": [
        "#### 3.3.3. Проверьте качество работы модели\n"
      ]
    },
    {
      "cell_type": "code",
      "execution_count": null,
      "metadata": {
        "id": "5cnumHqT9jTa"
      },
      "outputs": [],
      "source": [
        "# Ваш код здесь"
      ]
    },
    {
      "cell_type": "markdown",
      "metadata": {
        "id": "_v8dStwIf1Jh"
      },
      "source": [
        "## KNN для регрессии\n"
      ]
    },
    {
      "cell_type": "markdown",
      "metadata": {
        "id": "2pVOS69of1Jh"
      },
      "source": [
        "### Получение данных\n"
      ]
    },
    {
      "cell_type": "markdown",
      "metadata": {
        "id": "Qa8aBN0qf1Jh"
      },
      "source": [
        "Будем работать с набором данных для задачи регрессии - данные по предсказанию стоимости недвижимости.\n"
      ]
    },
    {
      "cell_type": "code",
      "execution_count": null,
      "metadata": {
        "colab": {
          "base_uri": "https://localhost:8080/",
          "height": 419
        },
        "id": "17m84klGf1Jh",
        "outputId": "ee3a9cad-31e0-4dd8-be44-e6f3a6ae2325"
      },
      "outputs": [
        {
          "data": {
            "text/html": [
              "\n",
              "  <div id=\"df-6f24d93a-a530-4e41-988d-1e38c0361f0a\">\n",
              "    <div class=\"colab-df-container\">\n",
              "      <div>\n",
              "<style scoped>\n",
              "    .dataframe tbody tr th:only-of-type {\n",
              "        vertical-align: middle;\n",
              "    }\n",
              "\n",
              "    .dataframe tbody tr th {\n",
              "        vertical-align: top;\n",
              "    }\n",
              "\n",
              "    .dataframe thead th {\n",
              "        text-align: right;\n",
              "    }\n",
              "</style>\n",
              "<table border=\"1\" class=\"dataframe\">\n",
              "  <thead>\n",
              "    <tr style=\"text-align: right;\">\n",
              "      <th></th>\n",
              "      <th>MedInc</th>\n",
              "      <th>HouseAge</th>\n",
              "      <th>AveRooms</th>\n",
              "      <th>AveBedrms</th>\n",
              "      <th>Population</th>\n",
              "      <th>AveOccup</th>\n",
              "      <th>Latitude</th>\n",
              "      <th>Longitude</th>\n",
              "    </tr>\n",
              "  </thead>\n",
              "  <tbody>\n",
              "    <tr>\n",
              "      <th>0</th>\n",
              "      <td>8.3252</td>\n",
              "      <td>41.0</td>\n",
              "      <td>6.984127</td>\n",
              "      <td>1.023810</td>\n",
              "      <td>322.0</td>\n",
              "      <td>2.555556</td>\n",
              "      <td>37.88</td>\n",
              "      <td>-122.23</td>\n",
              "    </tr>\n",
              "    <tr>\n",
              "      <th>1</th>\n",
              "      <td>8.3014</td>\n",
              "      <td>21.0</td>\n",
              "      <td>6.238137</td>\n",
              "      <td>0.971880</td>\n",
              "      <td>2401.0</td>\n",
              "      <td>2.109842</td>\n",
              "      <td>37.86</td>\n",
              "      <td>-122.22</td>\n",
              "    </tr>\n",
              "    <tr>\n",
              "      <th>2</th>\n",
              "      <td>7.2574</td>\n",
              "      <td>52.0</td>\n",
              "      <td>8.288136</td>\n",
              "      <td>1.073446</td>\n",
              "      <td>496.0</td>\n",
              "      <td>2.802260</td>\n",
              "      <td>37.85</td>\n",
              "      <td>-122.24</td>\n",
              "    </tr>\n",
              "    <tr>\n",
              "      <th>3</th>\n",
              "      <td>5.6431</td>\n",
              "      <td>52.0</td>\n",
              "      <td>5.817352</td>\n",
              "      <td>1.073059</td>\n",
              "      <td>558.0</td>\n",
              "      <td>2.547945</td>\n",
              "      <td>37.85</td>\n",
              "      <td>-122.25</td>\n",
              "    </tr>\n",
              "    <tr>\n",
              "      <th>4</th>\n",
              "      <td>3.8462</td>\n",
              "      <td>52.0</td>\n",
              "      <td>6.281853</td>\n",
              "      <td>1.081081</td>\n",
              "      <td>565.0</td>\n",
              "      <td>2.181467</td>\n",
              "      <td>37.85</td>\n",
              "      <td>-122.25</td>\n",
              "    </tr>\n",
              "    <tr>\n",
              "      <th>...</th>\n",
              "      <td>...</td>\n",
              "      <td>...</td>\n",
              "      <td>...</td>\n",
              "      <td>...</td>\n",
              "      <td>...</td>\n",
              "      <td>...</td>\n",
              "      <td>...</td>\n",
              "      <td>...</td>\n",
              "    </tr>\n",
              "    <tr>\n",
              "      <th>20635</th>\n",
              "      <td>1.5603</td>\n",
              "      <td>25.0</td>\n",
              "      <td>5.045455</td>\n",
              "      <td>1.133333</td>\n",
              "      <td>845.0</td>\n",
              "      <td>2.560606</td>\n",
              "      <td>39.48</td>\n",
              "      <td>-121.09</td>\n",
              "    </tr>\n",
              "    <tr>\n",
              "      <th>20636</th>\n",
              "      <td>2.5568</td>\n",
              "      <td>18.0</td>\n",
              "      <td>6.114035</td>\n",
              "      <td>1.315789</td>\n",
              "      <td>356.0</td>\n",
              "      <td>3.122807</td>\n",
              "      <td>39.49</td>\n",
              "      <td>-121.21</td>\n",
              "    </tr>\n",
              "    <tr>\n",
              "      <th>20637</th>\n",
              "      <td>1.7000</td>\n",
              "      <td>17.0</td>\n",
              "      <td>5.205543</td>\n",
              "      <td>1.120092</td>\n",
              "      <td>1007.0</td>\n",
              "      <td>2.325635</td>\n",
              "      <td>39.43</td>\n",
              "      <td>-121.22</td>\n",
              "    </tr>\n",
              "    <tr>\n",
              "      <th>20638</th>\n",
              "      <td>1.8672</td>\n",
              "      <td>18.0</td>\n",
              "      <td>5.329513</td>\n",
              "      <td>1.171920</td>\n",
              "      <td>741.0</td>\n",
              "      <td>2.123209</td>\n",
              "      <td>39.43</td>\n",
              "      <td>-121.32</td>\n",
              "    </tr>\n",
              "    <tr>\n",
              "      <th>20639</th>\n",
              "      <td>2.3886</td>\n",
              "      <td>16.0</td>\n",
              "      <td>5.254717</td>\n",
              "      <td>1.162264</td>\n",
              "      <td>1387.0</td>\n",
              "      <td>2.616981</td>\n",
              "      <td>39.37</td>\n",
              "      <td>-121.24</td>\n",
              "    </tr>\n",
              "  </tbody>\n",
              "</table>\n",
              "<p>20640 rows × 8 columns</p>\n",
              "</div>\n",
              "      <button class=\"colab-df-convert\" onclick=\"convertToInteractive('df-6f24d93a-a530-4e41-988d-1e38c0361f0a')\"\n",
              "              title=\"Convert this dataframe to an interactive table.\"\n",
              "              style=\"display:none;\">\n",
              "        \n",
              "  <svg xmlns=\"http://www.w3.org/2000/svg\" height=\"24px\"viewBox=\"0 0 24 24\"\n",
              "       width=\"24px\">\n",
              "    <path d=\"M0 0h24v24H0V0z\" fill=\"none\"/>\n",
              "    <path d=\"M18.56 5.44l.94 2.06.94-2.06 2.06-.94-2.06-.94-.94-2.06-.94 2.06-2.06.94zm-11 1L8.5 8.5l.94-2.06 2.06-.94-2.06-.94L8.5 2.5l-.94 2.06-2.06.94zm10 10l.94 2.06.94-2.06 2.06-.94-2.06-.94-.94-2.06-.94 2.06-2.06.94z\"/><path d=\"M17.41 7.96l-1.37-1.37c-.4-.4-.92-.59-1.43-.59-.52 0-1.04.2-1.43.59L10.3 9.45l-7.72 7.72c-.78.78-.78 2.05 0 2.83L4 21.41c.39.39.9.59 1.41.59.51 0 1.02-.2 1.41-.59l7.78-7.78 2.81-2.81c.8-.78.8-2.07 0-2.86zM5.41 20L4 18.59l7.72-7.72 1.47 1.35L5.41 20z\"/>\n",
              "  </svg>\n",
              "      </button>\n",
              "      \n",
              "  <style>\n",
              "    .colab-df-container {\n",
              "      display:flex;\n",
              "      flex-wrap:wrap;\n",
              "      gap: 12px;\n",
              "    }\n",
              "\n",
              "    .colab-df-convert {\n",
              "      background-color: #E8F0FE;\n",
              "      border: none;\n",
              "      border-radius: 50%;\n",
              "      cursor: pointer;\n",
              "      display: none;\n",
              "      fill: #1967D2;\n",
              "      height: 32px;\n",
              "      padding: 0 0 0 0;\n",
              "      width: 32px;\n",
              "    }\n",
              "\n",
              "    .colab-df-convert:hover {\n",
              "      background-color: #E2EBFA;\n",
              "      box-shadow: 0px 1px 2px rgba(60, 64, 67, 0.3), 0px 1px 3px 1px rgba(60, 64, 67, 0.15);\n",
              "      fill: #174EA6;\n",
              "    }\n",
              "\n",
              "    [theme=dark] .colab-df-convert {\n",
              "      background-color: #3B4455;\n",
              "      fill: #D2E3FC;\n",
              "    }\n",
              "\n",
              "    [theme=dark] .colab-df-convert:hover {\n",
              "      background-color: #434B5C;\n",
              "      box-shadow: 0px 1px 3px 1px rgba(0, 0, 0, 0.15);\n",
              "      filter: drop-shadow(0px 1px 2px rgba(0, 0, 0, 0.3));\n",
              "      fill: #FFFFFF;\n",
              "    }\n",
              "  </style>\n",
              "\n",
              "      <script>\n",
              "        const buttonEl =\n",
              "          document.querySelector('#df-6f24d93a-a530-4e41-988d-1e38c0361f0a button.colab-df-convert');\n",
              "        buttonEl.style.display =\n",
              "          google.colab.kernel.accessAllowed ? 'block' : 'none';\n",
              "\n",
              "        async function convertToInteractive(key) {\n",
              "          const element = document.querySelector('#df-6f24d93a-a530-4e41-988d-1e38c0361f0a');\n",
              "          const dataTable =\n",
              "            await google.colab.kernel.invokeFunction('convertToInteractive',\n",
              "                                                     [key], {});\n",
              "          if (!dataTable) return;\n",
              "\n",
              "          const docLinkHtml = 'Like what you see? Visit the ' +\n",
              "            '<a target=\"_blank\" href=https://colab.research.google.com/notebooks/data_table.ipynb>data table notebook</a>'\n",
              "            + ' to learn more about interactive tables.';\n",
              "          element.innerHTML = '';\n",
              "          dataTable['output_type'] = 'display_data';\n",
              "          await google.colab.output.renderOutput(dataTable, element);\n",
              "          const docLink = document.createElement('div');\n",
              "          docLink.innerHTML = docLinkHtml;\n",
              "          element.appendChild(docLink);\n",
              "        }\n",
              "      </script>\n",
              "    </div>\n",
              "  </div>\n",
              "  "
            ],
            "text/plain": [
              "       MedInc  HouseAge  AveRooms  AveBedrms  Population  AveOccup  Latitude  \\\n",
              "0      8.3252      41.0  6.984127   1.023810       322.0  2.555556     37.88   \n",
              "1      8.3014      21.0  6.238137   0.971880      2401.0  2.109842     37.86   \n",
              "2      7.2574      52.0  8.288136   1.073446       496.0  2.802260     37.85   \n",
              "3      5.6431      52.0  5.817352   1.073059       558.0  2.547945     37.85   \n",
              "4      3.8462      52.0  6.281853   1.081081       565.0  2.181467     37.85   \n",
              "...       ...       ...       ...        ...         ...       ...       ...   \n",
              "20635  1.5603      25.0  5.045455   1.133333       845.0  2.560606     39.48   \n",
              "20636  2.5568      18.0  6.114035   1.315789       356.0  3.122807     39.49   \n",
              "20637  1.7000      17.0  5.205543   1.120092      1007.0  2.325635     39.43   \n",
              "20638  1.8672      18.0  5.329513   1.171920       741.0  2.123209     39.43   \n",
              "20639  2.3886      16.0  5.254717   1.162264      1387.0  2.616981     39.37   \n",
              "\n",
              "       Longitude  \n",
              "0        -122.23  \n",
              "1        -122.22  \n",
              "2        -122.24  \n",
              "3        -122.25  \n",
              "4        -122.25  \n",
              "...          ...  \n",
              "20635    -121.09  \n",
              "20636    -121.21  \n",
              "20637    -121.22  \n",
              "20638    -121.32  \n",
              "20639    -121.24  \n",
              "\n",
              "[20640 rows x 8 columns]"
            ]
          },
          "execution_count": 82,
          "metadata": {},
          "output_type": "execute_result"
        }
      ],
      "source": [
        "from sklearn.datasets import fetch_california_housing\n",
        "import pandas as pd\n",
        "import numpy as np\n",
        "\n",
        "\n",
        "data = fetch_california_housing()\n",
        "X = pd.DataFrame(data['data'], columns=data['feature_names'])\n",
        "y = data['target']\n",
        "\n",
        "X"
      ]
    },
    {
      "cell_type": "code",
      "execution_count": null,
      "metadata": {
        "colab": {
          "base_uri": "https://localhost:8080/"
        },
        "id": "VT8CqiIJsZ7J",
        "outputId": "86be930f-0bda-4e5b-d25c-a080fc03facb"
      },
      "outputs": [
        {
          "data": {
            "text/plain": [
              "array([4.526, 3.585, 3.521, ..., 0.923, 0.847, 0.894])"
            ]
          },
          "execution_count": 83,
          "metadata": {},
          "output_type": "execute_result"
        }
      ],
      "source": [
        "y"
      ]
    },
    {
      "cell_type": "markdown",
      "metadata": {
        "id": "waeKH9hx_JDI"
      },
      "source": [
        "### Возьмите только признак MedInc и 1000 первых строк\n"
      ]
    },
    {
      "cell_type": "code",
      "execution_count": null,
      "metadata": {
        "id": "KBv5r3MxrvDu"
      },
      "outputs": [],
      "source": [
        "# Ваш код здесь"
      ]
    },
    {
      "cell_type": "markdown",
      "metadata": {
        "id": "9py8RTfh3mx8"
      },
      "source": [
        "### Отрисуйте данные на графике\n"
      ]
    },
    {
      "cell_type": "code",
      "execution_count": null,
      "metadata": {
        "id": "CASFDGg7r-Z7"
      },
      "outputs": [],
      "source": [
        "# Ваш код здесь"
      ]
    },
    {
      "cell_type": "markdown",
      "metadata": {
        "id": "dPFKeBsSf1Jj"
      },
      "source": [
        "### 4. KNN из sklearn\n"
      ]
    },
    {
      "cell_type": "markdown",
      "metadata": {
        "id": "1Ape70qff1Jj"
      },
      "source": [
        "#### 4.1. Разбейте данные на обучение и тест\n"
      ]
    },
    {
      "cell_type": "code",
      "execution_count": null,
      "metadata": {
        "id": "EAMp2Lq2f1Jj"
      },
      "outputs": [],
      "source": [
        "# Ваш код здесь"
      ]
    },
    {
      "cell_type": "markdown",
      "metadata": {
        "id": "gvGPsS5yf1Jj"
      },
      "source": [
        "#### 4.2. Обучите модель KNN на 100 соседях\n"
      ]
    },
    {
      "cell_type": "code",
      "execution_count": null,
      "metadata": {
        "id": "NqNBn2lef1Jj"
      },
      "outputs": [],
      "source": [
        "# Ваш код здесь"
      ]
    },
    {
      "cell_type": "markdown",
      "metadata": {
        "id": "HJsrR5UAf1Jj"
      },
      "source": [
        "#### 4.3. Проверьте качество работы модели\n"
      ]
    },
    {
      "cell_type": "code",
      "execution_count": null,
      "metadata": {
        "id": "L1Bfa1SAf1Jj"
      },
      "outputs": [],
      "source": [
        "# Ваш код здесь"
      ]
    },
    {
      "cell_type": "markdown",
      "metadata": {
        "id": "eI0GxKu0s7gd"
      },
      "source": [
        "#### 4.4. Возьмите один случайный тестовый объект и посчитайте для него расстояния до всех объектов с обучения\n"
      ]
    },
    {
      "cell_type": "code",
      "execution_count": null,
      "metadata": {
        "id": "TX_itQcNs7ge"
      },
      "outputs": [],
      "source": [
        "# Ваш код здесь"
      ]
    },
    {
      "cell_type": "markdown",
      "metadata": {
        "id": "CEgprPJds7gg"
      },
      "source": [
        "#### 4.5. Выберите топ k соседей\n"
      ]
    },
    {
      "cell_type": "code",
      "execution_count": null,
      "metadata": {
        "id": "CnqVuAxJs7gh"
      },
      "outputs": [],
      "source": [
        "# Ваш код здесь"
      ]
    },
    {
      "cell_type": "markdown",
      "metadata": {
        "id": "7n6uL56us7gh"
      },
      "source": [
        "#### 4.6. Выведите финальное предсказание для этого объекта\n"
      ]
    },
    {
      "cell_type": "code",
      "execution_count": null,
      "metadata": {
        "id": "2672HFoYs7gi"
      },
      "outputs": [],
      "source": [
        "# Ваш код здесь"
      ]
    },
    {
      "cell_type": "markdown",
      "metadata": {
        "id": "x1uzHGwMs7gj"
      },
      "source": [
        "#### 4.7. Сравните с настоящим целевым значением и предсказанием модели из `sklearn`\n"
      ]
    },
    {
      "cell_type": "code",
      "execution_count": null,
      "metadata": {
        "id": "Vd5Zx3PSs7gk"
      },
      "outputs": [],
      "source": [
        "# Ваш код здесь"
      ]
    },
    {
      "cell_type": "code",
      "execution_count": null,
      "metadata": {
        "id": "2poQCFmAs7gl"
      },
      "outputs": [],
      "source": [
        "# Ваш код здесь"
      ]
    },
    {
      "cell_type": "markdown",
      "metadata": {
        "id": "A4Q9vJVes7gm"
      },
      "source": [
        "#### 4.8 Визуализируйте точки с обучения и тестовую с отрисовкой ближайших соседей\n"
      ]
    },
    {
      "cell_type": "code",
      "execution_count": null,
      "metadata": {
        "id": "8bYTJ6lOs7gn"
      },
      "outputs": [],
      "source": [
        "# Ваш код здесь"
      ]
    },
    {
      "cell_type": "markdown",
      "metadata": {
        "id": "auGvyGLkyk2a"
      },
      "source": [
        "### 5. Weighted KNN\n"
      ]
    },
    {
      "cell_type": "markdown",
      "metadata": {
        "id": "uvu7IJGVyk2k"
      },
      "source": [
        "#### 5.1. Обучите модель взвешенный KNN по дистанции\n"
      ]
    },
    {
      "cell_type": "code",
      "execution_count": null,
      "metadata": {
        "id": "kEtPMR73yk2m"
      },
      "outputs": [],
      "source": [
        "# Ваш код здесь"
      ]
    },
    {
      "cell_type": "markdown",
      "metadata": {
        "id": "eFtadjyzyk2o"
      },
      "source": [
        "#### 5.2. Проверьте качество работы модели\n"
      ]
    },
    {
      "cell_type": "code",
      "execution_count": null,
      "metadata": {
        "id": "hVi8H-ykyk2p"
      },
      "outputs": [],
      "source": [
        "# Ваш код здесь"
      ]
    },
    {
      "cell_type": "markdown",
      "metadata": {
        "id": "e2g_kpxjyk2q"
      },
      "source": [
        "#### 5.3. Возьмите тот же случайный тестовый объект и посчитайте для него расстояния до всех объектов с обучения\n"
      ]
    },
    {
      "cell_type": "code",
      "execution_count": null,
      "metadata": {
        "id": "aqQXuXl3yk2r"
      },
      "outputs": [],
      "source": [
        "# Ваш код здесь"
      ]
    },
    {
      "cell_type": "markdown",
      "metadata": {
        "id": "bcCepejsyk2r"
      },
      "source": [
        "#### 5.4. Выберите топ k соседей\n"
      ]
    },
    {
      "cell_type": "code",
      "execution_count": null,
      "metadata": {
        "id": "3dFRpO-Yyk2t"
      },
      "outputs": [],
      "source": [
        "# Ваш код здесь"
      ]
    },
    {
      "cell_type": "markdown",
      "metadata": {
        "id": "Hg9Ga9xjyk2u"
      },
      "source": [
        "#### 5.5. Рассчитайте вес для каждого соседа\n"
      ]
    },
    {
      "cell_type": "code",
      "execution_count": null,
      "metadata": {
        "id": "5omsJ6EMyk2u"
      },
      "outputs": [],
      "source": [
        "# Ваш код здесь"
      ]
    },
    {
      "cell_type": "markdown",
      "metadata": {
        "id": "nPloBYeCyk2v"
      },
      "source": [
        "#### 5.6. Выведите финальное предсказание для этого объекта\n"
      ]
    },
    {
      "cell_type": "code",
      "execution_count": null,
      "metadata": {
        "id": "mDVrHzyxyk2v"
      },
      "outputs": [],
      "source": [
        "# Ваш код здесь"
      ]
    },
    {
      "cell_type": "markdown",
      "metadata": {
        "id": "NP3fXDhzyk2w"
      },
      "source": [
        "#### 5.7. Сравните с настоящим целевым значением и предсказанием модели из `sklearn`\n"
      ]
    },
    {
      "cell_type": "code",
      "execution_count": null,
      "metadata": {
        "id": "FfR8FNr8yk2w"
      },
      "outputs": [],
      "source": [
        "# Ваш код здесь"
      ]
    },
    {
      "cell_type": "code",
      "execution_count": null,
      "metadata": {
        "id": "aVHZLv-ryk2x"
      },
      "outputs": [],
      "source": [
        "# Ваш код здесь"
      ]
    },
    {
      "cell_type": "markdown",
      "metadata": {
        "id": "GWhdUoSvyk2y"
      },
      "source": [
        "#### 5.8. Визуализируйте точки с обучения и тестовую с отрисовкой ближайших соседей по удаленности\n"
      ]
    },
    {
      "cell_type": "code",
      "execution_count": null,
      "metadata": {
        "id": "xD70rvmYyk2y"
      },
      "outputs": [],
      "source": [
        "# Ваш код здесь"
      ]
    },
    {
      "cell_type": "markdown",
      "metadata": {
        "id": "T6mFtupL_xwP"
      },
      "source": [
        "## 6. Еще одна задача регрессии\n"
      ]
    },
    {
      "cell_type": "markdown",
      "metadata": {
        "id": "PJVARGYG_xwQ"
      },
      "source": [
        "### Получение данных\n",
        "\n",
        "Будем работать с тем же самым набором данным `fetch_olivetti_faces` из `sklearn`, но уже для задачи регрессии - будем восстанавливать изображение.\n"
      ]
    },
    {
      "cell_type": "code",
      "execution_count": null,
      "metadata": {
        "id": "uWD9ztJr_xwQ"
      },
      "outputs": [],
      "source": [
        "from sklearn.model_selection import train_test_split\n",
        "\n",
        "data, _ = fetch_olivetti_faces(return_X_y=True)\n",
        "train, test = train_test_split(data, test_size=0.2, random_state=4)"
      ]
    },
    {
      "cell_type": "markdown",
      "metadata": {
        "id": "MDbWz6kIDIdq"
      },
      "source": [
        "Поделим данные на X и y, где X - это верхняя часть лица человека, на этом модель будет обучаться, а y - это нижняя часть лица человека - её будем предсказывать.\n"
      ]
    },
    {
      "cell_type": "code",
      "execution_count": null,
      "metadata": {
        "id": "0Y31rNs8AkHw"
      },
      "outputs": [],
      "source": [
        "n_pixels = data.shape[1]\n",
        "\n",
        "# Upper half of the faces\n",
        "X_train = train[:, :(n_pixels + 1) // 2]\n",
        "# Lower half of the faces\n",
        "y_train = train[:, n_pixels // 2:]\n",
        "\n",
        "\n",
        "X_test = test[:, :(n_pixels + 1) // 2]\n",
        "y_test = test[:, n_pixels // 2:]"
      ]
    },
    {
      "cell_type": "markdown",
      "metadata": {
        "id": "7q4nmYnMDTzY"
      },
      "source": [
        "Вот один пример обучающей пары.\n"
      ]
    },
    {
      "cell_type": "code",
      "execution_count": null,
      "metadata": {
        "colab": {
          "base_uri": "https://localhost:8080/",
          "height": 237
        },
        "id": "GYpecml0_xwS",
        "outputId": "a2e34103-4f60-41e9-a414-b801b932fa97"
      },
      "outputs": [
        {
          "data": {
            "image/png": "[encoded data removed]",
            "text/plain": [
              "<Figure size 1080x576 with 2 Axes>"
            ]
          },
          "metadata": {
            "needs_background": "light"
          },
          "output_type": "display_data"
        }
      ],
      "source": [
        "import matplotlib.pyplot as plt\n",
        "\n",
        "idx = 0\n",
        "\n",
        "fig, ax = plt.subplots(1, 2, figsize=(15, 8))\n",
        "ax[0].imshow(X_train[idx].reshape((32, 64)), cmap='gray')\n",
        "ax[0].set_title('X')\n",
        "ax[1].imshow(y_train[idx].reshape((32, 64)), cmap='gray')\n",
        "ax[1].set_title('y')\n",
        "ax[0].axis('off')\n",
        "ax[1].axis('off')\n",
        "\n",
        "plt.show()"
      ]
    },
    {
      "cell_type": "markdown",
      "metadata": {
        "id": "16rigEur_xwV"
      },
      "source": [
        "#### 6.1. Обучите модель KNN и назовите переменную с моделью knn на 100 соседях\n"
      ]
    },
    {
      "cell_type": "code",
      "execution_count": null,
      "metadata": {
        "id": "K4z0355H_xwV"
      },
      "outputs": [],
      "source": [
        "# Ваш код здесь"
      ]
    },
    {
      "cell_type": "markdown",
      "metadata": {
        "id": "xdj3qzoK_xwW"
      },
      "source": [
        "#### 6.2. Проверьте качество работы модели\n",
        "\n",
        "При этом предсказания модели запишите в словарь pred_test с ключом knn.\n"
      ]
    },
    {
      "cell_type": "code",
      "execution_count": null,
      "metadata": {
        "id": "TkAjlcTHD1RS"
      },
      "outputs": [],
      "source": [
        "pred_test = {'knn': None,\n",
        "             'weighted_knn': None,\n",
        "             'weighted_knn_custom': None}"
      ]
    },
    {
      "cell_type": "code",
      "execution_count": null,
      "metadata": {
        "id": "0pHkSeQQ_xwW"
      },
      "outputs": [],
      "source": [
        "# Ваш код здесь"
      ]
    },
    {
      "cell_type": "markdown",
      "metadata": {
        "id": "5UGfsu8GEQ5O"
      },
      "source": [
        "#### 6.3. Обучите модель KNN с весами по дистанции и назовите переменную с моделью weighted_knn на 100 соседях\n"
      ]
    },
    {
      "cell_type": "code",
      "execution_count": null,
      "metadata": {
        "id": "DhzuI-quEQ5P"
      },
      "outputs": [],
      "source": [
        "# Ваш код здесь"
      ]
    },
    {
      "cell_type": "markdown",
      "metadata": {
        "id": "CL4XC6diEQ5U"
      },
      "source": [
        "#### 6.4. Проверьте качество работы модели\n",
        "\n",
        "При этом предсказания модели запишите в словарь pred_test с ключом weighted_knn.\n"
      ]
    },
    {
      "cell_type": "code",
      "execution_count": null,
      "metadata": {
        "id": "rkO30FFZEQ5X"
      },
      "outputs": [],
      "source": [
        "# Ваш код здесь"
      ]
    },
    {
      "cell_type": "markdown",
      "metadata": {
        "id": "JpP2X6ZKFcU3"
      },
      "source": [
        "#### 6.5. Напишите свою функцию подсчета весов по дистанции\n",
        "\n",
        "(Можете выбрать любой подход)\n"
      ]
    },
    {
      "cell_type": "code",
      "execution_count": null,
      "metadata": {
        "id": "HqLNzZ4LFMTA"
      },
      "outputs": [],
      "source": [
        "# Ваш код здесь"
      ]
    },
    {
      "cell_type": "markdown",
      "metadata": {
        "id": "ZNp9hwkdFMSH"
      },
      "source": [
        "#### 6.6. Обучите модель KNN с кастомными весами по дистанции и назовите переменную с моделью weighted_knn_custom на 100 соседях\n"
      ]
    },
    {
      "cell_type": "code",
      "execution_count": null,
      "metadata": {
        "id": "65dPHduGFMTE"
      },
      "outputs": [],
      "source": [
        "# Ваш код здесь"
      ]
    },
    {
      "cell_type": "markdown",
      "metadata": {
        "id": "F_atST3_F4FS"
      },
      "source": [
        "#### 6.7. Проверьте качество работы модели\n",
        "\n",
        "При этом предсказания модели запишите в словарь pred_test с ключом weighted_knn_custom.\n"
      ]
    },
    {
      "cell_type": "code",
      "execution_count": null,
      "metadata": {
        "id": "HvPoVnl8F4FT"
      },
      "outputs": [],
      "source": [
        "# Ваш код здесь"
      ]
    },
    {
      "cell_type": "markdown",
      "metadata": {
        "id": "LzmfZBw1GAQ9"
      },
      "source": [
        "А сейчас отрисуем все предсказания.\n"
      ]
    },
    {
      "cell_type": "code",
      "execution_count": null,
      "metadata": {
        "id": "cA7n35dnDmvK"
      },
      "outputs": [],
      "source": [
        "ESTIMATORS = {'knn': knn,\n",
        "              'weighted_knn': weighted_knn,\n",
        "              'weighted_knn_custom': weighted_knn_custom}"
      ]
    },
    {
      "cell_type": "code",
      "execution_count": null,
      "metadata": {
        "id": "aIna_q3gCWo-"
      },
      "outputs": [],
      "source": [
        "n_faces = 5\n",
        "n_cols = 1 + len(ESTIMATORS)\n",
        "image_shape = (64, 64)\n",
        "plt.figure(figsize=(3 * n_cols, 3 * n_faces))\n",
        "\n",
        "\n",
        "for i in range(5):\n",
        "    true_face = np.hstack((X_test[i], y_test[i]))\n",
        "\n",
        "    if i:\n",
        "        sub = plt.subplot(n_faces, n_cols, i * n_cols + 1)\n",
        "    else:\n",
        "        sub = plt.subplot(n_faces, n_cols, i * n_cols + 1, title=\"true faces\")\n",
        "\n",
        "    sub.axis(\"off\")\n",
        "    sub.imshow(\n",
        "        true_face.reshape(image_shape), cmap=plt.cm.gray, interpolation=\"nearest\"\n",
        "    )\n",
        "\n",
        "    for j, est in enumerate(sorted(ESTIMATORS)):\n",
        "        completed_face = np.hstack((X_test[i], pred_test[est][i]))\n",
        "\n",
        "        if i:\n",
        "            sub = plt.subplot(n_faces, n_cols, i * n_cols + 2 + j)\n",
        "\n",
        "        else:\n",
        "            sub = plt.subplot(n_faces, n_cols, i * n_cols + 2 + j, title=est)\n",
        "\n",
        "        sub.axis(\"off\")\n",
        "        sub.imshow(\n",
        "            completed_face.reshape(image_shape),\n",
        "            cmap=plt.cm.gray,\n",
        "            interpolation=\"nearest\",\n",
        "        )"
      ]
    },
    {
      "cell_type": "markdown",
      "metadata": {
        "id": "Sk3IYAOpQBkk"
      },
      "source": [
        "#### 7\\*. Подберите лучшие гиперпараметры для модели, используя метод [GridSearchCV](https://scikit-learn.org/stable/modules/grid_search.html)\n",
        "\n",
        "Примеры использования можно найти в технической документации, а также в следующих источниках:\n",
        "\n",
        "[Пример 1](https://machinelearningknowledge.ai/knn-classifier-in-sklearn-using-gridsearchcv-with-example/#vii_Model_fitting_with_K-cross_Validation_and_GridSearchCV)\n",
        "\n",
        "[Пример 2](https://vc.ru/ml/147132-kak-avtomaticheski-podobrat-parametry-dlya-modeli-mashinnogo-obucheniya-ispolzuem-gridsearchcv)\n"
      ]
    },
    {
      "cell_type": "code",
      "execution_count": null,
      "metadata": {
        "id": "mEZyVU1xgR69"
      },
      "outputs": [],
      "source": [
        "# Ваш код здесь"
      ]
    }
  ],
  "metadata": {
    "colab": {
      "include_colab_link": true,
      "provenance": [],
      "toc_visible": true
    },
    "kernelspec": {
      "display_name": "Python 3",
      "name": "python3"
    },
    "language_info": {
      "codemirror_mode": {
        "name": "ipython",
        "version": 3
      },
      "file_extension": ".py",
      "mimetype": "text/x-python",
      "name": "python",
      "nbconvert_exporter": "python",
      "pygments_lexer": "ipython3",
      "version": "3.9.13"
    }
  },
  "nbformat": 4,
  "nbformat_minor": 0
}
